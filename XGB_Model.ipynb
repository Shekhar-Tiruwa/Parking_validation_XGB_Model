{
  "cells": [
    {
      "cell_type": "code",
      "execution_count": 99,
      "metadata": {
        "colab": {
          "base_uri": "https://localhost:8080/"
        },
        "id": "Vfo20OlKpzHE",
        "outputId": "eccd7b96-aa9a-4fc2-c24a-8ba0b0147314"
      },
      "outputs": [],
      "source": [
        "import json\n",
        "from wordcloud import WordCloud\n",
        "from wordcloud import WordCloud\n",
        "from imblearn.over_sampling import RandomOverSampler\n",
        "import matplotlib.pyplot as plt\n",
        "import ast\n",
        "import pandas as pd\n",
        "import nltk\n",
        "import string\n",
        "from nltk.corpus import stopwords\n",
        "from nltk.stem import PorterStemmer, WordNetLemmatizer\n",
        "from sklearn.feature_extraction.text import TfidfVectorizer\n",
        "import pandas as pd\n",
        "from sklearn.preprocessing import LabelEncoder\n",
        "from sklearn.feature_selection import SelectKBest, f_classif\n",
        "# import xgboost as xgb\n",
        "from sklearn.model_selection import train_test_split\n",
        "from sklearn.metrics import classification_report, accuracy_score\n",
        "import numpy as np\n",
        "from sklearn.model_selection import train_test_split\n",
        "from sklearn.preprocessing import StandardScaler\n",
        "from keras.models import Sequential\n",
        "from keras.layers import Dense\n",
        "from keras.callbacks import EarlyStopping\n",
        "import shap\n",
        "from sklearn.model_selection import train_test_split\n",
        "from sklearn.preprocessing import StandardScaler\n",
        "import seaborn as sns\n",
        "import matplotlib.pyplot as plt\n",
        "import plotly.express as px\n",
        "import numpy as np\n",
        "import warnings\n",
        "\n",
        "# Ignore all warnings\n",
        "warnings.filterwarnings(\"ignore\")\n",
        "\n"
      ]
    },
    {
      "cell_type": "code",
      "execution_count": 100,
      "metadata": {
        "colab": {
          "base_uri": "https://localhost:8080/"
        },
        "id": "h5MbqbDxp3Hy",
        "outputId": "a782fa58-4082-4332-a6f8-0305a6d97cb8"
      },
      "outputs": [
        {
          "name": "stdout",
          "output_type": "stream",
          "text": [
            "Dataframes loaded successfully!\n"
          ]
        }
      ],
      "source": [
        "import pandas as pd\n",
        "\n",
        "# Load JSON files as dataframes\n",
        "business_df = pd.read_json('yelp_academic_dataset_business.json', lines=True)\n",
        "\n",
        "print(\"Dataframes loaded successfully!\")"
      ]
    },
    {
      "cell_type": "code",
      "execution_count": 101,
      "metadata": {
        "colab": {
          "base_uri": "https://localhost:8080/"
        },
        "id": "rmlUCbrAqNVq",
        "outputId": "f1f09c40-e078-4aa0-d9c5-405ba686c54e"
      },
      "outputs": [
        {
          "data": {
            "text/plain": [
              "Index(['business_id', 'name', 'address', 'city', 'state', 'postal_code',\n",
              "       'latitude', 'longitude', 'stars', 'review_count', 'is_open',\n",
              "       'attributes', 'categories', 'hours'],\n",
              "      dtype='object')"
            ]
          },
          "execution_count": 101,
          "metadata": {},
          "output_type": "execute_result"
        }
      ],
      "source": [
        "business_df.columns"
      ]
    },
    {
      "cell_type": "code",
      "execution_count": 102,
      "metadata": {
        "colab": {
          "base_uri": "https://localhost:8080/"
        },
        "id": "9criNtzq6BZx",
        "outputId": "faee0e0e-fa41-4010-e1ee-046cd41ac53b"
      },
      "outputs": [
        {
          "data": {
            "text/plain": [
              "(150346, 14)"
            ]
          },
          "execution_count": 102,
          "metadata": {},
          "output_type": "execute_result"
        }
      ],
      "source": [
        "business_df.shape"
      ]
    },
    {
      "cell_type": "code",
      "execution_count": 103,
      "metadata": {
        "colab": {
          "base_uri": "https://localhost:8080/",
          "height": 300
        },
        "id": "Zh44rKEK5cO-",
        "outputId": "20bfb69e-3f03-4795-cddb-3488ad00fdd9"
      },
      "outputs": [
        {
          "data": {
            "text/html": [
              "<div>\n",
              "<style scoped>\n",
              "    .dataframe tbody tr th:only-of-type {\n",
              "        vertical-align: middle;\n",
              "    }\n",
              "\n",
              "    .dataframe tbody tr th {\n",
              "        vertical-align: top;\n",
              "    }\n",
              "\n",
              "    .dataframe thead th {\n",
              "        text-align: right;\n",
              "    }\n",
              "</style>\n",
              "<table border=\"1\" class=\"dataframe\">\n",
              "  <thead>\n",
              "    <tr style=\"text-align: right;\">\n",
              "      <th></th>\n",
              "      <th>latitude</th>\n",
              "      <th>longitude</th>\n",
              "      <th>stars</th>\n",
              "      <th>review_count</th>\n",
              "      <th>is_open</th>\n",
              "    </tr>\n",
              "  </thead>\n",
              "  <tbody>\n",
              "    <tr>\n",
              "      <th>count</th>\n",
              "      <td>150346.000000</td>\n",
              "      <td>150346.000000</td>\n",
              "      <td>150346.000000</td>\n",
              "      <td>150346.000000</td>\n",
              "      <td>150346.00000</td>\n",
              "    </tr>\n",
              "    <tr>\n",
              "      <th>mean</th>\n",
              "      <td>36.671150</td>\n",
              "      <td>-89.357339</td>\n",
              "      <td>3.596724</td>\n",
              "      <td>44.866561</td>\n",
              "      <td>0.79615</td>\n",
              "    </tr>\n",
              "    <tr>\n",
              "      <th>std</th>\n",
              "      <td>5.872759</td>\n",
              "      <td>14.918502</td>\n",
              "      <td>0.974421</td>\n",
              "      <td>121.120136</td>\n",
              "      <td>0.40286</td>\n",
              "    </tr>\n",
              "    <tr>\n",
              "      <th>min</th>\n",
              "      <td>27.555127</td>\n",
              "      <td>-120.095137</td>\n",
              "      <td>1.000000</td>\n",
              "      <td>5.000000</td>\n",
              "      <td>0.00000</td>\n",
              "    </tr>\n",
              "    <tr>\n",
              "      <th>25%</th>\n",
              "      <td>32.187293</td>\n",
              "      <td>-90.357810</td>\n",
              "      <td>3.000000</td>\n",
              "      <td>8.000000</td>\n",
              "      <td>1.00000</td>\n",
              "    </tr>\n",
              "    <tr>\n",
              "      <th>50%</th>\n",
              "      <td>38.777413</td>\n",
              "      <td>-86.121179</td>\n",
              "      <td>3.500000</td>\n",
              "      <td>15.000000</td>\n",
              "      <td>1.00000</td>\n",
              "    </tr>\n",
              "    <tr>\n",
              "      <th>75%</th>\n",
              "      <td>39.954036</td>\n",
              "      <td>-75.421542</td>\n",
              "      <td>4.500000</td>\n",
              "      <td>37.000000</td>\n",
              "      <td>1.00000</td>\n",
              "    </tr>\n",
              "    <tr>\n",
              "      <th>max</th>\n",
              "      <td>53.679197</td>\n",
              "      <td>-73.200457</td>\n",
              "      <td>5.000000</td>\n",
              "      <td>7568.000000</td>\n",
              "      <td>1.00000</td>\n",
              "    </tr>\n",
              "  </tbody>\n",
              "</table>\n",
              "</div>"
            ],
            "text/plain": [
              "            latitude      longitude          stars   review_count  \\\n",
              "count  150346.000000  150346.000000  150346.000000  150346.000000   \n",
              "mean       36.671150     -89.357339       3.596724      44.866561   \n",
              "std         5.872759      14.918502       0.974421     121.120136   \n",
              "min        27.555127    -120.095137       1.000000       5.000000   \n",
              "25%        32.187293     -90.357810       3.000000       8.000000   \n",
              "50%        38.777413     -86.121179       3.500000      15.000000   \n",
              "75%        39.954036     -75.421542       4.500000      37.000000   \n",
              "max        53.679197     -73.200457       5.000000    7568.000000   \n",
              "\n",
              "            is_open  \n",
              "count  150346.00000  \n",
              "mean        0.79615  \n",
              "std         0.40286  \n",
              "min         0.00000  \n",
              "25%         1.00000  \n",
              "50%         1.00000  \n",
              "75%         1.00000  \n",
              "max         1.00000  "
            ]
          },
          "execution_count": 103,
          "metadata": {},
          "output_type": "execute_result"
        }
      ],
      "source": [
        "business_df.describe()"
      ]
    },
    {
      "cell_type": "code",
      "execution_count": 104,
      "metadata": {
        "colab": {
          "base_uri": "https://localhost:8080/",
          "height": 458
        },
        "id": "EAJO1MaR5cLh",
        "outputId": "ee931aeb-fe8f-4fbe-909c-e57b3cc8051a"
      },
      "outputs": [
        {
          "data": {
            "text/plain": [
              "0                             {'ByAppointmentOnly': 'True'}\n",
              "1                    {'BusinessAcceptsCreditCards': 'True'}\n",
              "2         {'BikeParking': 'True', 'BusinessAcceptsCredit...\n",
              "3         {'RestaurantsDelivery': 'False', 'OutdoorSeati...\n",
              "4         {'BusinessAcceptsCreditCards': 'True', 'Wheelc...\n",
              "                                ...                        \n",
              "150341    {'ByAppointmentOnly': 'False', 'RestaurantsPri...\n",
              "150342    {'BusinessAcceptsCreditCards': 'True', 'Restau...\n",
              "150343    {'RestaurantsPriceRange2': '1', 'BusinessAccep...\n",
              "150344    {'BusinessParking': '{'garage': False, 'street...\n",
              "150345    {'WheelchairAccessible': 'True', 'BusinessAcce...\n",
              "Name: attributes, Length: 150346, dtype: object"
            ]
          },
          "execution_count": 104,
          "metadata": {},
          "output_type": "execute_result"
        }
      ],
      "source": [
        "business_df.attributes"
      ]
    },
    {
      "cell_type": "code",
      "execution_count": 105,
      "metadata": {
        "colab": {
          "base_uri": "https://localhost:8080/"
        },
        "id": "h50Cw8E25cI5",
        "outputId": "fb06ad4f-3334-47e3-801a-b10fd896031c"
      },
      "outputs": [
        {
          "data": {
            "text/plain": [
              "(150346,)"
            ]
          },
          "execution_count": 105,
          "metadata": {},
          "output_type": "execute_result"
        }
      ],
      "source": [
        "business_df.attributes.shape"
      ]
    },
    {
      "cell_type": "code",
      "execution_count": 106,
      "metadata": {
        "colab": {
          "base_uri": "https://localhost:8080/"
        },
        "id": "8OKqDnrR5cGo",
        "outputId": "6850bf1b-3116-4e58-ac64-5cdbf0c46a58"
      },
      "outputs": [
        {
          "name": "stdout",
          "output_type": "stream",
          "text": [
            "              business_id                      name  \\\n",
            "0  Pns2l4eNsfO8kk83dixA6A  Abby Rappoport, LAC, CMQ   \n",
            "1  mpf3x-BjTdTEA3yCZrAYPw             The UPS Store   \n",
            "2  tUFrWirKiKi_TAnsVWINQQ                    Target   \n",
            "3  MTSW4McQd7CbVtyjqoe9mw        St Honore Pastries   \n",
            "4  mWMc6_wTdE0EUBKIGXDVfA  Perkiomen Valley Brewery   \n",
            "\n",
            "                           address           city state postal_code  \\\n",
            "0           1616 Chapala St, Ste 2  Santa Barbara    CA       93101   \n",
            "1  87 Grasso Plaza Shopping Center         Affton    MO       63123   \n",
            "2             5255 E Broadway Blvd         Tucson    AZ       85711   \n",
            "3                      935 Race St   Philadelphia    PA       19107   \n",
            "4                    101 Walnut St     Green Lane    PA       18054   \n",
            "\n",
            "    latitude   longitude  stars  review_count  ...  AcceptsInsurance  \\\n",
            "0  34.426679 -119.711197    5.0             7  ...               NaN   \n",
            "1  38.551126  -90.335695    3.0            15  ...               NaN   \n",
            "2  32.223236 -110.880452    3.5            22  ...               NaN   \n",
            "3  39.955505  -75.155564    4.0            80  ...               NaN   \n",
            "4  40.338183  -75.471659    4.5            13  ...               NaN   \n",
            "\n",
            "  BestNights BYOB Corkage BYOBCorkage HairSpecializesIn Open24Hours  \\\n",
            "0        NaN  NaN     NaN         NaN               NaN         NaN   \n",
            "1        NaN  NaN     NaN         NaN               NaN         NaN   \n",
            "2        NaN  NaN     NaN         NaN               NaN         NaN   \n",
            "3        NaN  NaN     NaN         NaN               NaN         NaN   \n",
            "4        NaN  NaN     NaN         NaN               NaN         NaN   \n",
            "\n",
            "  RestaurantsCounterService AgesAllowed DietaryRestrictions  \n",
            "0                       NaN         NaN                 NaN  \n",
            "1                       NaN         NaN                 NaN  \n",
            "2                       NaN         NaN                 NaN  \n",
            "3                       NaN         NaN                 NaN  \n",
            "4                       NaN         NaN                 NaN  \n",
            "\n",
            "[5 rows x 53 columns]\n"
          ]
        }
      ],
      "source": [
        "import pandas as pd\n",
        "import ast\n",
        "\n",
        "# Assuming your dataframe is called business_df\n",
        "# First, let's ensure the 'attributes' column is properly parsed\n",
        "\n",
        "# Convert the string representation of dictionaries into actual dictionaries\n",
        "business_df['attributes'] = business_df['attributes'].apply(lambda x: ast.literal_eval(str(x)) if pd.notnull(x) else {})\n",
        "\n",
        "# Now expand the 'attributes' column into separate columns\n",
        "attributes_df = business_df['attributes'].apply(pd.Series)\n",
        "\n",
        "# Merge the expanded attributes back into the original dataframe\n",
        "business_df_expanded = pd.concat([business_df, attributes_df], axis=1)\n",
        "\n",
        "# Optionally, you can drop the original 'attributes' column if it's no longer needed\n",
        "# business_df_expanded = business_df_expanded.drop(columns=['attributes'])\n",
        "\n",
        "# Display the new dataframe with attributes as features\n",
        "print(business_df_expanded.head())\n"
      ]
    },
    {
      "cell_type": "code",
      "execution_count": 107,
      "metadata": {
        "colab": {
          "base_uri": "https://localhost:8080/"
        },
        "id": "XdbnmIqn5cEW",
        "outputId": "04c1a92e-d59a-4d9e-cc8d-d3fd8669c861"
      },
      "outputs": [
        {
          "data": {
            "text/plain": [
              "(150346, 53)"
            ]
          },
          "execution_count": 107,
          "metadata": {},
          "output_type": "execute_result"
        }
      ],
      "source": [
        "business_df_expanded.shape"
      ]
    },
    {
      "cell_type": "code",
      "execution_count": 108,
      "metadata": {
        "colab": {
          "base_uri": "https://localhost:8080/",
          "height": 446
        },
        "id": "dmQUtL8i5cCD",
        "outputId": "f85a36ef-20e6-471a-d98a-c740eeb8c69a"
      },
      "outputs": [
        {
          "data": {
            "text/html": [
              "<div>\n",
              "<style scoped>\n",
              "    .dataframe tbody tr th:only-of-type {\n",
              "        vertical-align: middle;\n",
              "    }\n",
              "\n",
              "    .dataframe tbody tr th {\n",
              "        vertical-align: top;\n",
              "    }\n",
              "\n",
              "    .dataframe thead th {\n",
              "        text-align: right;\n",
              "    }\n",
              "</style>\n",
              "<table border=\"1\" class=\"dataframe\">\n",
              "  <thead>\n",
              "    <tr style=\"text-align: right;\">\n",
              "      <th></th>\n",
              "      <th>business_id</th>\n",
              "      <th>name</th>\n",
              "      <th>address</th>\n",
              "      <th>city</th>\n",
              "      <th>state</th>\n",
              "      <th>postal_code</th>\n",
              "      <th>latitude</th>\n",
              "      <th>longitude</th>\n",
              "      <th>stars</th>\n",
              "      <th>review_count</th>\n",
              "      <th>...</th>\n",
              "      <th>AcceptsInsurance</th>\n",
              "      <th>BestNights</th>\n",
              "      <th>BYOB</th>\n",
              "      <th>Corkage</th>\n",
              "      <th>BYOBCorkage</th>\n",
              "      <th>HairSpecializesIn</th>\n",
              "      <th>Open24Hours</th>\n",
              "      <th>RestaurantsCounterService</th>\n",
              "      <th>AgesAllowed</th>\n",
              "      <th>DietaryRestrictions</th>\n",
              "    </tr>\n",
              "  </thead>\n",
              "  <tbody>\n",
              "    <tr>\n",
              "      <th>0</th>\n",
              "      <td>Pns2l4eNsfO8kk83dixA6A</td>\n",
              "      <td>Abby Rappoport, LAC, CMQ</td>\n",
              "      <td>1616 Chapala St, Ste 2</td>\n",
              "      <td>Santa Barbara</td>\n",
              "      <td>CA</td>\n",
              "      <td>93101</td>\n",
              "      <td>34.426679</td>\n",
              "      <td>-119.711197</td>\n",
              "      <td>5.0</td>\n",
              "      <td>7</td>\n",
              "      <td>...</td>\n",
              "      <td>NaN</td>\n",
              "      <td>NaN</td>\n",
              "      <td>NaN</td>\n",
              "      <td>NaN</td>\n",
              "      <td>NaN</td>\n",
              "      <td>NaN</td>\n",
              "      <td>NaN</td>\n",
              "      <td>NaN</td>\n",
              "      <td>NaN</td>\n",
              "      <td>NaN</td>\n",
              "    </tr>\n",
              "    <tr>\n",
              "      <th>1</th>\n",
              "      <td>mpf3x-BjTdTEA3yCZrAYPw</td>\n",
              "      <td>The UPS Store</td>\n",
              "      <td>87 Grasso Plaza Shopping Center</td>\n",
              "      <td>Affton</td>\n",
              "      <td>MO</td>\n",
              "      <td>63123</td>\n",
              "      <td>38.551126</td>\n",
              "      <td>-90.335695</td>\n",
              "      <td>3.0</td>\n",
              "      <td>15</td>\n",
              "      <td>...</td>\n",
              "      <td>NaN</td>\n",
              "      <td>NaN</td>\n",
              "      <td>NaN</td>\n",
              "      <td>NaN</td>\n",
              "      <td>NaN</td>\n",
              "      <td>NaN</td>\n",
              "      <td>NaN</td>\n",
              "      <td>NaN</td>\n",
              "      <td>NaN</td>\n",
              "      <td>NaN</td>\n",
              "    </tr>\n",
              "    <tr>\n",
              "      <th>2</th>\n",
              "      <td>tUFrWirKiKi_TAnsVWINQQ</td>\n",
              "      <td>Target</td>\n",
              "      <td>5255 E Broadway Blvd</td>\n",
              "      <td>Tucson</td>\n",
              "      <td>AZ</td>\n",
              "      <td>85711</td>\n",
              "      <td>32.223236</td>\n",
              "      <td>-110.880452</td>\n",
              "      <td>3.5</td>\n",
              "      <td>22</td>\n",
              "      <td>...</td>\n",
              "      <td>NaN</td>\n",
              "      <td>NaN</td>\n",
              "      <td>NaN</td>\n",
              "      <td>NaN</td>\n",
              "      <td>NaN</td>\n",
              "      <td>NaN</td>\n",
              "      <td>NaN</td>\n",
              "      <td>NaN</td>\n",
              "      <td>NaN</td>\n",
              "      <td>NaN</td>\n",
              "    </tr>\n",
              "    <tr>\n",
              "      <th>3</th>\n",
              "      <td>MTSW4McQd7CbVtyjqoe9mw</td>\n",
              "      <td>St Honore Pastries</td>\n",
              "      <td>935 Race St</td>\n",
              "      <td>Philadelphia</td>\n",
              "      <td>PA</td>\n",
              "      <td>19107</td>\n",
              "      <td>39.955505</td>\n",
              "      <td>-75.155564</td>\n",
              "      <td>4.0</td>\n",
              "      <td>80</td>\n",
              "      <td>...</td>\n",
              "      <td>NaN</td>\n",
              "      <td>NaN</td>\n",
              "      <td>NaN</td>\n",
              "      <td>NaN</td>\n",
              "      <td>NaN</td>\n",
              "      <td>NaN</td>\n",
              "      <td>NaN</td>\n",
              "      <td>NaN</td>\n",
              "      <td>NaN</td>\n",
              "      <td>NaN</td>\n",
              "    </tr>\n",
              "    <tr>\n",
              "      <th>4</th>\n",
              "      <td>mWMc6_wTdE0EUBKIGXDVfA</td>\n",
              "      <td>Perkiomen Valley Brewery</td>\n",
              "      <td>101 Walnut St</td>\n",
              "      <td>Green Lane</td>\n",
              "      <td>PA</td>\n",
              "      <td>18054</td>\n",
              "      <td>40.338183</td>\n",
              "      <td>-75.471659</td>\n",
              "      <td>4.5</td>\n",
              "      <td>13</td>\n",
              "      <td>...</td>\n",
              "      <td>NaN</td>\n",
              "      <td>NaN</td>\n",
              "      <td>NaN</td>\n",
              "      <td>NaN</td>\n",
              "      <td>NaN</td>\n",
              "      <td>NaN</td>\n",
              "      <td>NaN</td>\n",
              "      <td>NaN</td>\n",
              "      <td>NaN</td>\n",
              "      <td>NaN</td>\n",
              "    </tr>\n",
              "  </tbody>\n",
              "</table>\n",
              "<p>5 rows × 53 columns</p>\n",
              "</div>"
            ],
            "text/plain": [
              "              business_id                      name  \\\n",
              "0  Pns2l4eNsfO8kk83dixA6A  Abby Rappoport, LAC, CMQ   \n",
              "1  mpf3x-BjTdTEA3yCZrAYPw             The UPS Store   \n",
              "2  tUFrWirKiKi_TAnsVWINQQ                    Target   \n",
              "3  MTSW4McQd7CbVtyjqoe9mw        St Honore Pastries   \n",
              "4  mWMc6_wTdE0EUBKIGXDVfA  Perkiomen Valley Brewery   \n",
              "\n",
              "                           address           city state postal_code  \\\n",
              "0           1616 Chapala St, Ste 2  Santa Barbara    CA       93101   \n",
              "1  87 Grasso Plaza Shopping Center         Affton    MO       63123   \n",
              "2             5255 E Broadway Blvd         Tucson    AZ       85711   \n",
              "3                      935 Race St   Philadelphia    PA       19107   \n",
              "4                    101 Walnut St     Green Lane    PA       18054   \n",
              "\n",
              "    latitude   longitude  stars  review_count  ...  AcceptsInsurance  \\\n",
              "0  34.426679 -119.711197    5.0             7  ...               NaN   \n",
              "1  38.551126  -90.335695    3.0            15  ...               NaN   \n",
              "2  32.223236 -110.880452    3.5            22  ...               NaN   \n",
              "3  39.955505  -75.155564    4.0            80  ...               NaN   \n",
              "4  40.338183  -75.471659    4.5            13  ...               NaN   \n",
              "\n",
              "  BestNights BYOB Corkage BYOBCorkage HairSpecializesIn Open24Hours  \\\n",
              "0        NaN  NaN     NaN         NaN               NaN         NaN   \n",
              "1        NaN  NaN     NaN         NaN               NaN         NaN   \n",
              "2        NaN  NaN     NaN         NaN               NaN         NaN   \n",
              "3        NaN  NaN     NaN         NaN               NaN         NaN   \n",
              "4        NaN  NaN     NaN         NaN               NaN         NaN   \n",
              "\n",
              "  RestaurantsCounterService AgesAllowed DietaryRestrictions  \n",
              "0                       NaN         NaN                 NaN  \n",
              "1                       NaN         NaN                 NaN  \n",
              "2                       NaN         NaN                 NaN  \n",
              "3                       NaN         NaN                 NaN  \n",
              "4                       NaN         NaN                 NaN  \n",
              "\n",
              "[5 rows x 53 columns]"
            ]
          },
          "execution_count": 108,
          "metadata": {},
          "output_type": "execute_result"
        }
      ],
      "source": [
        "business_df_expanded.head()"
      ]
    },
    {
      "cell_type": "code",
      "execution_count": 109,
      "metadata": {
        "colab": {
          "base_uri": "https://localhost:8080/"
        },
        "id": "vj-TOhCx5b_i",
        "outputId": "116e35ba-64ab-4b25-8ae9-bd080f461dff"
      },
      "outputs": [
        {
          "data": {
            "text/plain": [
              "Index(['business_id', 'name', 'address', 'city', 'state', 'postal_code',\n",
              "       'latitude', 'longitude', 'stars', 'review_count', 'is_open',\n",
              "       'attributes', 'categories', 'hours', 'ByAppointmentOnly',\n",
              "       'BusinessAcceptsCreditCards', 'BikeParking', 'RestaurantsPriceRange2',\n",
              "       'CoatCheck', 'RestaurantsTakeOut', 'RestaurantsDelivery', 'Caters',\n",
              "       'WiFi', 'BusinessParking', 'WheelchairAccessible', 'HappyHour',\n",
              "       'OutdoorSeating', 'HasTV', 'RestaurantsReservations', 'DogsAllowed',\n",
              "       'Alcohol', 'GoodForKids', 'RestaurantsAttire', 'Ambience',\n",
              "       'RestaurantsTableService', 'RestaurantsGoodForGroups', 'DriveThru',\n",
              "       'NoiseLevel', 'GoodForMeal', 'BusinessAcceptsBitcoin', 'Smoking',\n",
              "       'Music', 'GoodForDancing', 'AcceptsInsurance', 'BestNights', 'BYOB',\n",
              "       'Corkage', 'BYOBCorkage', 'HairSpecializesIn', 'Open24Hours',\n",
              "       'RestaurantsCounterService', 'AgesAllowed', 'DietaryRestrictions'],\n",
              "      dtype='object')"
            ]
          },
          "execution_count": 109,
          "metadata": {},
          "output_type": "execute_result"
        }
      ],
      "source": [
        "business_df_expanded.columns"
      ]
    },
    {
      "cell_type": "code",
      "execution_count": 110,
      "metadata": {
        "colab": {
          "base_uri": "https://localhost:8080/"
        },
        "id": "crNGKU1L5b9L",
        "outputId": "19eee592-b198-4aac-f571-a2a799dac1ea"
      },
      "outputs": [
        {
          "name": "stdout",
          "output_type": "stream",
          "text": [
            "Columns with more than 50% missing values dropped: Index(['ByAppointmentOnly', 'BikeParking', 'CoatCheck', 'RestaurantsTakeOut',\n",
            "       'RestaurantsDelivery', 'Caters', 'WiFi', 'WheelchairAccessible',\n",
            "       'HappyHour', 'OutdoorSeating', 'HasTV', 'RestaurantsReservations',\n",
            "       'DogsAllowed', 'Alcohol', 'GoodForKids', 'RestaurantsAttire',\n",
            "       'Ambience', 'RestaurantsTableService', 'RestaurantsGoodForGroups',\n",
            "       'DriveThru', 'NoiseLevel', 'GoodForMeal', 'BusinessAcceptsBitcoin',\n",
            "       'Smoking', 'Music', 'GoodForDancing', 'AcceptsInsurance', 'BestNights',\n",
            "       'BYOB', 'Corkage', 'BYOBCorkage', 'HairSpecializesIn', 'Open24Hours',\n",
            "       'RestaurantsCounterService', 'AgesAllowed', 'DietaryRestrictions'],\n",
            "      dtype='object')\n"
          ]
        }
      ],
      "source": [
        "# Calculate the percentage of missing values for each column\n",
        "missing_percentage = business_df_expanded.isnull().mean() * 100\n",
        "\n",
        "# Get the columns with more than 50% missing values\n",
        "columns_to_drop = missing_percentage[missing_percentage > 50].index\n",
        "\n",
        "# Drop these columns from the dataframe\n",
        "business_df_expanded = business_df_expanded.drop(columns=columns_to_drop)\n",
        "\n",
        "# Print the columns that were dropped\n",
        "print(f\"Columns with more than 50% missing values dropped: {columns_to_drop}\")\n"
      ]
    },
    {
      "cell_type": "code",
      "execution_count": 111,
      "metadata": {
        "colab": {
          "base_uri": "https://localhost:8080/"
        },
        "id": "h5APfeYc5b60",
        "outputId": "821ad841-263f-4ff0-c885-4747ac468300"
      },
      "outputs": [
        {
          "data": {
            "text/plain": [
              "(150346, 17)"
            ]
          },
          "execution_count": 111,
          "metadata": {},
          "output_type": "execute_result"
        }
      ],
      "source": [
        "business_df_expanded.shape"
      ]
    },
    {
      "cell_type": "code",
      "execution_count": 112,
      "metadata": {
        "colab": {
          "base_uri": "https://localhost:8080/"
        },
        "id": "Gq4mWs2M5b4o",
        "outputId": "1addec20-8319-42b1-836c-6dbd75955554"
      },
      "outputs": [],
      "source": [
        "# Check for missing values in the dataframe\n",
        "missing_values = business_df_expanded.isnull().sum()\n",
        "\n",
        "# Handle missing values (this can be customized depending on your data)\n",
        "# Option 1: Fill missing numerical values with the median or mean\n",
        "business_df_expanded['stars'].fillna(business_df_expanded['stars'].median(), inplace=True)\n",
        "\n",
        "# Option 2: Fill missing categorical values with 'Unknown' or mode\n",
        "for column in business_df_expanded.select_dtypes(include='object').columns:\n",
        "    business_df_expanded[column].fillna('Unknown', inplace=True)\n",
        "\n",
        "# Option 3: Drop columns with too many missing values (if needed)\n",
        "# business_df_expanded = business_df_expanded.drop(columns=['column_with_many_missing_values'])\n"
      ]
    },
    {
      "cell_type": "code",
      "execution_count": 113,
      "metadata": {
        "colab": {
          "base_uri": "https://localhost:8080/"
        },
        "id": "1NOsiDaF0mTc",
        "outputId": "77f5dc6c-7e24-46fb-9dd5-024d6087230f"
      },
      "outputs": [
        {
          "data": {
            "text/plain": [
              "0"
            ]
          },
          "execution_count": 113,
          "metadata": {},
          "output_type": "execute_result"
        }
      ],
      "source": [
        "business_df_expanded.isnull().sum().sum()"
      ]
    },
    {
      "cell_type": "code",
      "execution_count": 114,
      "metadata": {
        "colab": {
          "base_uri": "https://localhost:8080/"
        },
        "id": "S4EUS1HC2NBF",
        "outputId": "740aaa3b-7251-4f40-f835-a748960ef1d8"
      },
      "outputs": [
        {
          "data": {
            "text/plain": [
              "Index(['business_id', 'name', 'address', 'city', 'state', 'postal_code',\n",
              "       'latitude', 'longitude', 'stars', 'review_count', 'is_open',\n",
              "       'attributes', 'categories', 'hours', 'BusinessAcceptsCreditCards',\n",
              "       'RestaurantsPriceRange2', 'BusinessParking'],\n",
              "      dtype='object')"
            ]
          },
          "execution_count": 114,
          "metadata": {},
          "output_type": "execute_result"
        }
      ],
      "source": [
        "business_df_expanded.columns"
      ]
    },
    {
      "cell_type": "code",
      "execution_count": 115,
      "metadata": {
        "id": "S4Zj0Sge0mP7"
      },
      "outputs": [],
      "source": [
        "from sklearn.preprocessing import LabelEncoder\n",
        "\n",
        "# Columns that need label encoding\n",
        "binary_columns = ['is_open', 'BusinessAcceptsCreditCards']\n",
        "\n",
        "label_encoder = LabelEncoder()\n",
        "for column in binary_columns:\n",
        "    business_df_expanded[column] = label_encoder.fit_transform(business_df_expanded[column].astype(str))\n"
      ]
    },
    {
      "cell_type": "code",
      "execution_count": 116,
      "metadata": {
        "colab": {
          "base_uri": "https://localhost:8080/"
        },
        "id": "ChE-5X5f0mKw",
        "outputId": "af1313e2-518a-43c3-c552-8c0d71f9540c"
      },
      "outputs": [
        {
          "data": {
            "text/plain": [
              "(150346, 17)"
            ]
          },
          "execution_count": 116,
          "metadata": {},
          "output_type": "execute_result"
        }
      ],
      "source": [
        "business_df_expanded.shape"
      ]
    },
    {
      "cell_type": "code",
      "execution_count": 117,
      "metadata": {
        "colab": {
          "base_uri": "https://localhost:8080/"
        },
        "id": "7fM3AY5r0mC0",
        "outputId": "57a12dc7-ca5d-4e14-d57b-7b278b387791"
      },
      "outputs": [
        {
          "name": "stdout",
          "output_type": "stream",
          "text": [
            "<class 'pandas.core.frame.DataFrame'>\n",
            "RangeIndex: 150346 entries, 0 to 150345\n",
            "Data columns (total 17 columns):\n",
            " #   Column                      Non-Null Count   Dtype  \n",
            "---  ------                      --------------   -----  \n",
            " 0   business_id                 150346 non-null  object \n",
            " 1   name                        150346 non-null  object \n",
            " 2   address                     150346 non-null  object \n",
            " 3   city                        150346 non-null  object \n",
            " 4   state                       150346 non-null  object \n",
            " 5   postal_code                 150346 non-null  object \n",
            " 6   latitude                    150346 non-null  float64\n",
            " 7   longitude                   150346 non-null  float64\n",
            " 8   stars                       150346 non-null  float64\n",
            " 9   review_count                150346 non-null  int64  \n",
            " 10  is_open                     150346 non-null  int64  \n",
            " 11  attributes                  150346 non-null  object \n",
            " 12  categories                  150346 non-null  object \n",
            " 13  hours                       150346 non-null  object \n",
            " 14  BusinessAcceptsCreditCards  150346 non-null  int64  \n",
            " 15  RestaurantsPriceRange2      150346 non-null  object \n",
            " 16  BusinessParking             150346 non-null  object \n",
            "dtypes: float64(3), int64(3), object(11)\n",
            "memory usage: 19.5+ MB\n"
          ]
        }
      ],
      "source": [
        "business_df_expanded.info()"
      ]
    },
    {
      "cell_type": "code",
      "execution_count": 118,
      "metadata": {
        "colab": {
          "base_uri": "https://localhost:8080/",
          "height": 458
        },
        "id": "ujtjxIq60mAM",
        "outputId": "ab21b8eb-10bc-4515-c5e8-4e34fede0e17"
      },
      "outputs": [
        {
          "data": {
            "text/plain": [
              "0         Doctors, Traditional Chinese Medicine, Naturop...\n",
              "1         Shipping Centers, Local Services, Notaries, Ma...\n",
              "2         Department Stores, Shopping, Fashion, Home & G...\n",
              "3         Restaurants, Food, Bubble Tea, Coffee & Tea, B...\n",
              "4                                 Brewpubs, Breweries, Food\n",
              "                                ...                        \n",
              "150341                           Nail Salons, Beauty & Spas\n",
              "150342    Pets, Nurseries & Gardening, Pet Stores, Hobby...\n",
              "150343    Shopping, Jewelry, Piercing, Toy Stores, Beaut...\n",
              "150344    Fitness/Exercise Equipment, Eyewear & Optician...\n",
              "150345    Beauty & Spas, Permanent Makeup, Piercing, Tattoo\n",
              "Name: categories, Length: 150346, dtype: object"
            ]
          },
          "execution_count": 118,
          "metadata": {},
          "output_type": "execute_result"
        }
      ],
      "source": [
        "business_df_expanded['categories']"
      ]
    },
    {
      "cell_type": "code",
      "execution_count": 119,
      "metadata": {
        "colab": {
          "base_uri": "https://localhost:8080/",
          "height": 481
        },
        "id": "eE521F9-0l9m",
        "outputId": "9dc70279-edbd-4cec-a7f2-b2b72f095e06"
      },
      "outputs": [
        {
          "data": {
            "text/html": [
              "<div>\n",
              "<style scoped>\n",
              "    .dataframe tbody tr th:only-of-type {\n",
              "        vertical-align: middle;\n",
              "    }\n",
              "\n",
              "    .dataframe tbody tr th {\n",
              "        vertical-align: top;\n",
              "    }\n",
              "\n",
              "    .dataframe thead th {\n",
              "        text-align: right;\n",
              "    }\n",
              "</style>\n",
              "<table border=\"1\" class=\"dataframe\">\n",
              "  <thead>\n",
              "    <tr style=\"text-align: right;\">\n",
              "      <th></th>\n",
              "      <th>business_id</th>\n",
              "      <th>name</th>\n",
              "      <th>address</th>\n",
              "      <th>city</th>\n",
              "      <th>state</th>\n",
              "      <th>postal_code</th>\n",
              "      <th>latitude</th>\n",
              "      <th>longitude</th>\n",
              "      <th>stars</th>\n",
              "      <th>review_count</th>\n",
              "      <th>...</th>\n",
              "      <th>Restaurants</th>\n",
              "      <th>Food</th>\n",
              "      <th>Shopping</th>\n",
              "      <th>Home Services</th>\n",
              "      <th>Beauty &amp; Spas</th>\n",
              "      <th>Nightlife</th>\n",
              "      <th>Health &amp; Medical</th>\n",
              "      <th>Local Services</th>\n",
              "      <th>Bars</th>\n",
              "      <th>Automotive</th>\n",
              "    </tr>\n",
              "  </thead>\n",
              "  <tbody>\n",
              "    <tr>\n",
              "      <th>0</th>\n",
              "      <td>Pns2l4eNsfO8kk83dixA6A</td>\n",
              "      <td>Abby Rappoport, LAC, CMQ</td>\n",
              "      <td>1616 Chapala St, Ste 2</td>\n",
              "      <td>Santa Barbara</td>\n",
              "      <td>CA</td>\n",
              "      <td>93101</td>\n",
              "      <td>34.426679</td>\n",
              "      <td>-119.711197</td>\n",
              "      <td>5.0</td>\n",
              "      <td>7</td>\n",
              "      <td>...</td>\n",
              "      <td>0</td>\n",
              "      <td>0</td>\n",
              "      <td>0</td>\n",
              "      <td>0</td>\n",
              "      <td>0</td>\n",
              "      <td>0</td>\n",
              "      <td>1</td>\n",
              "      <td>0</td>\n",
              "      <td>0</td>\n",
              "      <td>0</td>\n",
              "    </tr>\n",
              "    <tr>\n",
              "      <th>1</th>\n",
              "      <td>mpf3x-BjTdTEA3yCZrAYPw</td>\n",
              "      <td>The UPS Store</td>\n",
              "      <td>87 Grasso Plaza Shopping Center</td>\n",
              "      <td>Affton</td>\n",
              "      <td>MO</td>\n",
              "      <td>63123</td>\n",
              "      <td>38.551126</td>\n",
              "      <td>-90.335695</td>\n",
              "      <td>3.0</td>\n",
              "      <td>15</td>\n",
              "      <td>...</td>\n",
              "      <td>0</td>\n",
              "      <td>0</td>\n",
              "      <td>0</td>\n",
              "      <td>0</td>\n",
              "      <td>0</td>\n",
              "      <td>0</td>\n",
              "      <td>0</td>\n",
              "      <td>1</td>\n",
              "      <td>0</td>\n",
              "      <td>0</td>\n",
              "    </tr>\n",
              "    <tr>\n",
              "      <th>2</th>\n",
              "      <td>tUFrWirKiKi_TAnsVWINQQ</td>\n",
              "      <td>Target</td>\n",
              "      <td>5255 E Broadway Blvd</td>\n",
              "      <td>Tucson</td>\n",
              "      <td>AZ</td>\n",
              "      <td>85711</td>\n",
              "      <td>32.223236</td>\n",
              "      <td>-110.880452</td>\n",
              "      <td>3.5</td>\n",
              "      <td>22</td>\n",
              "      <td>...</td>\n",
              "      <td>0</td>\n",
              "      <td>0</td>\n",
              "      <td>1</td>\n",
              "      <td>0</td>\n",
              "      <td>0</td>\n",
              "      <td>0</td>\n",
              "      <td>0</td>\n",
              "      <td>0</td>\n",
              "      <td>0</td>\n",
              "      <td>0</td>\n",
              "    </tr>\n",
              "    <tr>\n",
              "      <th>3</th>\n",
              "      <td>MTSW4McQd7CbVtyjqoe9mw</td>\n",
              "      <td>St Honore Pastries</td>\n",
              "      <td>935 Race St</td>\n",
              "      <td>Philadelphia</td>\n",
              "      <td>PA</td>\n",
              "      <td>19107</td>\n",
              "      <td>39.955505</td>\n",
              "      <td>-75.155564</td>\n",
              "      <td>4.0</td>\n",
              "      <td>80</td>\n",
              "      <td>...</td>\n",
              "      <td>1</td>\n",
              "      <td>1</td>\n",
              "      <td>0</td>\n",
              "      <td>0</td>\n",
              "      <td>0</td>\n",
              "      <td>0</td>\n",
              "      <td>0</td>\n",
              "      <td>0</td>\n",
              "      <td>0</td>\n",
              "      <td>0</td>\n",
              "    </tr>\n",
              "    <tr>\n",
              "      <th>4</th>\n",
              "      <td>mWMc6_wTdE0EUBKIGXDVfA</td>\n",
              "      <td>Perkiomen Valley Brewery</td>\n",
              "      <td>101 Walnut St</td>\n",
              "      <td>Green Lane</td>\n",
              "      <td>PA</td>\n",
              "      <td>18054</td>\n",
              "      <td>40.338183</td>\n",
              "      <td>-75.471659</td>\n",
              "      <td>4.5</td>\n",
              "      <td>13</td>\n",
              "      <td>...</td>\n",
              "      <td>0</td>\n",
              "      <td>1</td>\n",
              "      <td>0</td>\n",
              "      <td>0</td>\n",
              "      <td>0</td>\n",
              "      <td>0</td>\n",
              "      <td>0</td>\n",
              "      <td>0</td>\n",
              "      <td>0</td>\n",
              "      <td>0</td>\n",
              "    </tr>\n",
              "  </tbody>\n",
              "</table>\n",
              "<p>5 rows × 27 columns</p>\n",
              "</div>"
            ],
            "text/plain": [
              "              business_id                      name  \\\n",
              "0  Pns2l4eNsfO8kk83dixA6A  Abby Rappoport, LAC, CMQ   \n",
              "1  mpf3x-BjTdTEA3yCZrAYPw             The UPS Store   \n",
              "2  tUFrWirKiKi_TAnsVWINQQ                    Target   \n",
              "3  MTSW4McQd7CbVtyjqoe9mw        St Honore Pastries   \n",
              "4  mWMc6_wTdE0EUBKIGXDVfA  Perkiomen Valley Brewery   \n",
              "\n",
              "                           address           city state postal_code  \\\n",
              "0           1616 Chapala St, Ste 2  Santa Barbara    CA       93101   \n",
              "1  87 Grasso Plaza Shopping Center         Affton    MO       63123   \n",
              "2             5255 E Broadway Blvd         Tucson    AZ       85711   \n",
              "3                      935 Race St   Philadelphia    PA       19107   \n",
              "4                    101 Walnut St     Green Lane    PA       18054   \n",
              "\n",
              "    latitude   longitude  stars  review_count  ...  Restaurants Food Shopping  \\\n",
              "0  34.426679 -119.711197    5.0             7  ...            0    0        0   \n",
              "1  38.551126  -90.335695    3.0            15  ...            0    0        0   \n",
              "2  32.223236 -110.880452    3.5            22  ...            0    0        1   \n",
              "3  39.955505  -75.155564    4.0            80  ...            1    1        0   \n",
              "4  40.338183  -75.471659    4.5            13  ...            0    1        0   \n",
              "\n",
              "  Home Services  Beauty & Spas Nightlife Health & Medical  Local Services  \\\n",
              "0             0              0         0                1               0   \n",
              "1             0              0         0                0               1   \n",
              "2             0              0         0                0               0   \n",
              "3             0              0         0                0               0   \n",
              "4             0              0         0                0               0   \n",
              "\n",
              "   Bars  Automotive  \n",
              "0     0           0  \n",
              "1     0           0  \n",
              "2     0           0  \n",
              "3     0           0  \n",
              "4     0           0  \n",
              "\n",
              "[5 rows x 27 columns]"
            ]
          },
          "execution_count": 119,
          "metadata": {},
          "output_type": "execute_result"
        }
      ],
      "source": [
        "#One Hot Encoding Top 10 categories\n",
        "\n",
        "#Splitting the categories into separate items\n",
        "business_df_expanded['categories_split'] = business_df_expanded['categories'].apply(lambda x: x.split(', ') if isinstance(x, str) else [])\n",
        "\n",
        "#Getting the top 10 most common categories\n",
        "all_categories = business_df_expanded['categories_split'].explode()  # Flatten the list of categories\n",
        "top_10_categories = all_categories.value_counts().head(10).index.tolist()\n",
        "\n",
        "#One-hot encoding the top 10 categories\n",
        "for category in top_10_categories:\n",
        "    business_df_expanded[category] = business_df_expanded['categories_split'].apply(lambda x: 1 if category in x else 0)\n",
        "\n",
        "#Dropping the temporary 'categories_split' column\n",
        "business_df_expanded = business_df_expanded.drop(columns=['categories_split'])\n",
        "\n",
        "business_df_expanded.head()"
      ]
    },
    {
      "cell_type": "code",
      "execution_count": 120,
      "metadata": {
        "colab": {
          "base_uri": "https://localhost:8080/"
        },
        "id": "ypHqnuc30l7C",
        "outputId": "d882d813-cf27-4ecf-d0cb-3acc9b59fb0a"
      },
      "outputs": [
        {
          "data": {
            "text/plain": [
              "(150346, 27)"
            ]
          },
          "execution_count": 120,
          "metadata": {},
          "output_type": "execute_result"
        }
      ],
      "source": [
        "business_df_expanded.shape"
      ]
    },
    {
      "cell_type": "code",
      "execution_count": 121,
      "metadata": {
        "id": "X9O7D1-l0l2d"
      },
      "outputs": [],
      "source": [
        "# Drop irrelevant columns\n",
        "business_df_expanded = business_df_expanded.drop(columns=[ 'name', 'address'])\n",
        "#'name', 'address', 'attributes', 'categories', 'hours'"
      ]
    },
    {
      "cell_type": "code",
      "execution_count": 122,
      "metadata": {
        "id": "H9rt-e5A4Crf"
      },
      "outputs": [],
      "source": [
        "business_df_expanded = business_df_expanded.drop(columns=[ 'attributes', 'categories', 'hours'])\n"
      ]
    },
    {
      "cell_type": "code",
      "execution_count": 123,
      "metadata": {
        "colab": {
          "base_uri": "https://localhost:8080/"
        },
        "id": "SBo6pCJO8erH",
        "outputId": "3588d8a8-66e9-4da6-8819-8b3c981b3927"
      },
      "outputs": [
        {
          "data": {
            "text/plain": [
              "(150346, 22)"
            ]
          },
          "execution_count": 123,
          "metadata": {},
          "output_type": "execute_result"
        }
      ],
      "source": [
        "business_df_expanded.shape"
      ]
    },
    {
      "cell_type": "code",
      "execution_count": 124,
      "metadata": {
        "colab": {
          "base_uri": "https://localhost:8080/"
        },
        "id": "hygVMjAR9PJ7",
        "outputId": "4d6674c7-5fba-4496-96e6-a101d8163e89"
      },
      "outputs": [
        {
          "name": "stdout",
          "output_type": "stream",
          "text": [
            "<class 'pandas.core.frame.DataFrame'>\n",
            "RangeIndex: 150346 entries, 0 to 150345\n",
            "Data columns (total 22 columns):\n",
            " #   Column                      Non-Null Count   Dtype  \n",
            "---  ------                      --------------   -----  \n",
            " 0   business_id                 150346 non-null  object \n",
            " 1   city                        150346 non-null  object \n",
            " 2   state                       150346 non-null  object \n",
            " 3   postal_code                 150346 non-null  object \n",
            " 4   latitude                    150346 non-null  float64\n",
            " 5   longitude                   150346 non-null  float64\n",
            " 6   stars                       150346 non-null  float64\n",
            " 7   review_count                150346 non-null  int64  \n",
            " 8   is_open                     150346 non-null  int64  \n",
            " 9   BusinessAcceptsCreditCards  150346 non-null  int64  \n",
            " 10  RestaurantsPriceRange2      150346 non-null  object \n",
            " 11  BusinessParking             150346 non-null  object \n",
            " 12  Restaurants                 150346 non-null  int64  \n",
            " 13  Food                        150346 non-null  int64  \n",
            " 14  Shopping                    150346 non-null  int64  \n",
            " 15  Home Services               150346 non-null  int64  \n",
            " 16  Beauty & Spas               150346 non-null  int64  \n",
            " 17  Nightlife                   150346 non-null  int64  \n",
            " 18  Health & Medical            150346 non-null  int64  \n",
            " 19  Local Services              150346 non-null  int64  \n",
            " 20  Bars                        150346 non-null  int64  \n",
            " 21  Automotive                  150346 non-null  int64  \n",
            "dtypes: float64(3), int64(13), object(6)\n",
            "memory usage: 25.2+ MB\n"
          ]
        }
      ],
      "source": [
        "business_df_expanded.info()"
      ]
    },
    {
      "cell_type": "code",
      "execution_count": 125,
      "metadata": {
        "colab": {
          "base_uri": "https://localhost:8080/",
          "height": 773
        },
        "id": "EVE-LlbF8kSR",
        "outputId": "1eaa8730-1008-4b7a-a440-4dbd374739b7"
      },
      "outputs": [
        {
          "data": {
            "text/plain": [
              "business_id                   0\n",
              "city                          0\n",
              "state                         0\n",
              "postal_code                   0\n",
              "latitude                      0\n",
              "longitude                     0\n",
              "stars                         0\n",
              "review_count                  0\n",
              "is_open                       0\n",
              "BusinessAcceptsCreditCards    0\n",
              "RestaurantsPriceRange2        0\n",
              "BusinessParking               0\n",
              "Restaurants                   0\n",
              "Food                          0\n",
              "Shopping                      0\n",
              "Home Services                 0\n",
              "Beauty & Spas                 0\n",
              "Nightlife                     0\n",
              "Health & Medical              0\n",
              "Local Services                0\n",
              "Bars                          0\n",
              "Automotive                    0\n",
              "dtype: int64"
            ]
          },
          "execution_count": 125,
          "metadata": {},
          "output_type": "execute_result"
        }
      ],
      "source": [
        "business_df_expanded.isnull().sum()"
      ]
    },
    {
      "cell_type": "code",
      "execution_count": 126,
      "metadata": {
        "colab": {
          "base_uri": "https://localhost:8080/",
          "height": 241
        },
        "id": "tAfRUp3N8_jc",
        "outputId": "c1ea46c2-a30d-4aeb-cb39-ade7a463c50d"
      },
      "outputs": [
        {
          "data": {
            "text/plain": [
              "0                                              Unknown\n",
              "1                                              Unknown\n",
              "2    {'garage': False, 'street': False, 'validated'...\n",
              "3    {'garage': False, 'street': True, 'validated':...\n",
              "4    {'garage': None, 'street': None, 'validated': ...\n",
              "Name: BusinessParking, dtype: object"
            ]
          },
          "execution_count": 126,
          "metadata": {},
          "output_type": "execute_result"
        }
      ],
      "source": [
        "business_df_expanded['BusinessParking'].head()"
      ]
    },
    {
      "cell_type": "code",
      "execution_count": 127,
      "metadata": {
        "colab": {
          "base_uri": "https://localhost:8080/"
        },
        "id": "QNPn-mUs9F0D",
        "outputId": "a7cd3ee3-a25c-49d1-dc35-2c2a83e12323"
      },
      "outputs": [
        {
          "data": {
            "text/plain": [
              "59261"
            ]
          },
          "execution_count": 127,
          "metadata": {},
          "output_type": "execute_result"
        }
      ],
      "source": [
        "(business_df_expanded['BusinessParking'] == 'Unknown').sum()"
      ]
    },
    {
      "cell_type": "code",
      "execution_count": 128,
      "metadata": {
        "colab": {
          "base_uri": "https://localhost:8080/"
        },
        "id": "f5XCbHDc-MSI",
        "outputId": "92e65f61-9604-4354-90d2-be7f010f60ea"
      },
      "outputs": [
        {
          "data": {
            "text/plain": [
              "0"
            ]
          },
          "execution_count": 128,
          "metadata": {},
          "output_type": "execute_result"
        }
      ],
      "source": [
        "business_df_expanded['BusinessParking'].isna().sum()"
      ]
    },
    {
      "cell_type": "code",
      "execution_count": 129,
      "metadata": {
        "id": "M3xEcu8s9kG-"
      },
      "outputs": [],
      "source": [
        "business_df_expanded = business_df_expanded.dropna(subset=['BusinessParking'])"
      ]
    },
    {
      "cell_type": "code",
      "execution_count": 130,
      "metadata": {
        "colab": {
          "base_uri": "https://localhost:8080/"
        },
        "id": "-WiyDnFw9zwS",
        "outputId": "3ebf191f-9b68-4ce2-9bee-9cdbd71e6029"
      },
      "outputs": [
        {
          "data": {
            "text/plain": [
              "(150346, 22)"
            ]
          },
          "execution_count": 130,
          "metadata": {},
          "output_type": "execute_result"
        }
      ],
      "source": [
        "business_df_expanded.shape"
      ]
    },
    {
      "cell_type": "code",
      "execution_count": 131,
      "metadata": {
        "colab": {
          "base_uri": "https://localhost:8080/"
        },
        "id": "88oFgXFX93-m",
        "outputId": "b0e437a5-2ea5-43fe-a1c0-97879ae0b5fb"
      },
      "outputs": [
        {
          "data": {
            "text/plain": [
              "59261"
            ]
          },
          "execution_count": 131,
          "metadata": {},
          "output_type": "execute_result"
        }
      ],
      "source": [
        "(business_df_expanded['BusinessParking'] == 'Unknown').sum()"
      ]
    },
    {
      "cell_type": "code",
      "execution_count": 132,
      "metadata": {
        "id": "_h4ih0dI-96Q"
      },
      "outputs": [],
      "source": [
        "# Step 1: Remove rows with 'Unknown' in the 'BusinessParking' column\n",
        "business_df_expanded = business_df_expanded[business_df_expanded['BusinessParking'] != 'Unknown']"
      ]
    },
    {
      "cell_type": "code",
      "execution_count": 133,
      "metadata": {
        "colab": {
          "base_uri": "https://localhost:8080/"
        },
        "id": "7DA-KnLL_sx-",
        "outputId": "4cba8267-40b4-4211-c8d1-aac2bbb43e8b"
      },
      "outputs": [
        {
          "data": {
            "text/plain": [
              "(91085, 22)"
            ]
          },
          "execution_count": 133,
          "metadata": {},
          "output_type": "execute_result"
        }
      ],
      "source": [
        "business_df_expanded.shape"
      ]
    },
    {
      "cell_type": "code",
      "execution_count": 134,
      "metadata": {
        "colab": {
          "base_uri": "https://localhost:8080/",
          "height": 36
        },
        "id": "TbHdvAAc_uDJ",
        "outputId": "386e226a-7ef5-4e96-e4cf-d561c3e7c245"
      },
      "outputs": [
        {
          "data": {
            "text/plain": [
              "\"{'garage': False, 'street': False, 'validated': False, 'lot': True, 'valet': False}\""
            ]
          },
          "execution_count": 134,
          "metadata": {},
          "output_type": "execute_result"
        }
      ],
      "source": [
        "business_df_expanded['BusinessParking'].iloc[0]"
      ]
    },
    {
      "cell_type": "code",
      "execution_count": 135,
      "metadata": {
        "colab": {
          "base_uri": "https://localhost:8080/"
        },
        "id": "5Ph-HzKX_0TP",
        "outputId": "76848207-b772-4101-f8d0-a4398fdbcdea"
      },
      "outputs": [
        {
          "name": "stdout",
          "output_type": "stream",
          "text": [
            "              business_id          city state postal_code   latitude  \\\n",
            "2  tUFrWirKiKi_TAnsVWINQQ        Tucson    AZ       85711  32.223236   \n",
            "3  MTSW4McQd7CbVtyjqoe9mw  Philadelphia    PA       19107  39.955505   \n",
            "4  mWMc6_wTdE0EUBKIGXDVfA    Green Lane    PA       18054  40.338183   \n",
            "5  CF33F8-E6oudUQ46HnavjQ  Ashland City    TN       37015  36.269593   \n",
            "6  n_0UpQx1hsNbnPUSlodU8w     Brentwood    MO       63144  38.627695   \n",
            "\n",
            "    longitude  stars  review_count  is_open  BusinessAcceptsCreditCards  ...  \\\n",
            "2 -110.880452    3.5          22.0      0.0                         2.0  ...   \n",
            "3  -75.155564    4.0          80.0      1.0                         0.0  ...   \n",
            "4  -75.471659    4.5          13.0      1.0                         2.0  ...   \n",
            "5  -87.058943    2.0           6.0      1.0                         2.0  ...   \n",
            "6  -90.340465    2.5          13.0      1.0                         2.0  ...   \n",
            "\n",
            "  Nightlife  Health & Medical  Local Services  Bars  Automotive  garage  \\\n",
            "2       0.0               0.0             0.0   0.0         0.0    None   \n",
            "3       0.0               0.0             0.0   0.0         0.0     NaN   \n",
            "4       0.0               0.0             0.0   0.0         0.0   False   \n",
            "5       0.0               0.0             0.0   0.0         0.0   False   \n",
            "6       0.0               0.0             0.0   0.0         0.0   False   \n",
            "\n",
            "   street  validated    lot  valet  \n",
            "2    None       None   True  False  \n",
            "3     NaN        NaN    NaN    NaN  \n",
            "4   False      False   True  False  \n",
            "5   False      False   True  False  \n",
            "6   False      False  False  False  \n",
            "\n",
            "[5 rows x 26 columns]\n"
          ]
        }
      ],
      "source": [
        "import ast\n",
        "import pandas as pd\n",
        "\n",
        "# Function to safely parse each entry in 'BusinessParking'\n",
        "def safe_literal_eval(item):\n",
        "    try:\n",
        "        # Try to parse the item if it's a string\n",
        "        if isinstance(item, str):\n",
        "            return ast.literal_eval(item)\n",
        "        # Return the item if it's already a dictionary\n",
        "        elif isinstance(item, dict):\n",
        "            return item\n",
        "        # Return an empty dictionary for any other type\n",
        "        return {}\n",
        "    except (ValueError, SyntaxError):\n",
        "        return {}\n",
        "\n",
        "# Apply the parsing function to each element in the 'BusinessParking' column\n",
        "business_df_expanded['BusinessParking'] = business_df_expanded['BusinessParking'].apply(safe_literal_eval)\n",
        "\n",
        "# Normalize the 'BusinessParking' dictionary into separate columns\n",
        "df_business_latest = pd.json_normalize(business_df_expanded['BusinessParking'])\n",
        "\n",
        "# Combine the new dataframe with the original one (if needed)\n",
        "business_df_expanded = pd.concat([business_df_expanded, df_business_latest], axis=1)\n",
        "\n",
        "# Drop the 'BusinessParking' column if no longer needed\n",
        "business_df_expanded = business_df_expanded.drop(columns=['BusinessParking'])\n",
        "\n",
        "# Check the updated dataframe\n",
        "print(business_df_expanded.head())\n"
      ]
    },
    {
      "cell_type": "code",
      "execution_count": 136,
      "metadata": {
        "colab": {
          "base_uri": "https://localhost:8080/"
        },
        "id": "MIDR44HIAObS",
        "outputId": "0f4347b4-a07d-4efe-d133-d97fbb99928b"
      },
      "outputs": [
        {
          "data": {
            "text/plain": [
              "(126947, 26)"
            ]
          },
          "execution_count": 136,
          "metadata": {},
          "output_type": "execute_result"
        }
      ],
      "source": [
        "business_df_expanded.shape"
      ]
    },
    {
      "cell_type": "code",
      "execution_count": 137,
      "metadata": {
        "colab": {
          "base_uri": "https://localhost:8080/"
        },
        "id": "glMqH_PsBMJR",
        "outputId": "b6a75f45-6b2d-42ce-dded-168ae7ff03f3"
      },
      "outputs": [
        {
          "name": "stdout",
          "output_type": "stream",
          "text": [
            "<class 'pandas.core.frame.DataFrame'>\n",
            "Index: 126947 entries, 2 to 91084\n",
            "Data columns (total 26 columns):\n",
            " #   Column                      Non-Null Count  Dtype  \n",
            "---  ------                      --------------  -----  \n",
            " 0   business_id                 91085 non-null  object \n",
            " 1   city                        91085 non-null  object \n",
            " 2   state                       91085 non-null  object \n",
            " 3   postal_code                 91085 non-null  object \n",
            " 4   latitude                    91085 non-null  float64\n",
            " 5   longitude                   91085 non-null  float64\n",
            " 6   stars                       91085 non-null  float64\n",
            " 7   review_count                91085 non-null  float64\n",
            " 8   is_open                     91085 non-null  float64\n",
            " 9   BusinessAcceptsCreditCards  91085 non-null  float64\n",
            " 10  RestaurantsPriceRange2      91085 non-null  object \n",
            " 11  Restaurants                 91085 non-null  float64\n",
            " 12  Food                        91085 non-null  float64\n",
            " 13  Shopping                    91085 non-null  float64\n",
            " 14  Home Services               91085 non-null  float64\n",
            " 15  Beauty & Spas               91085 non-null  float64\n",
            " 16  Nightlife                   91085 non-null  float64\n",
            " 17  Health & Medical            91085 non-null  float64\n",
            " 18  Local Services              91085 non-null  float64\n",
            " 19  Bars                        91085 non-null  float64\n",
            " 20  Automotive                  91085 non-null  float64\n",
            " 21  garage                      86885 non-null  object \n",
            " 22  street                      85474 non-null  object \n",
            " 23  validated                   86654 non-null  object \n",
            " 24  lot                         86516 non-null  object \n",
            " 25  valet                       88795 non-null  object \n",
            "dtypes: float64(16), object(10)\n",
            "memory usage: 26.2+ MB\n"
          ]
        }
      ],
      "source": [
        "business_df_expanded.info()"
      ]
    },
    {
      "cell_type": "code",
      "execution_count": 138,
      "metadata": {
        "id": "ZPxnQHyMBZh9"
      },
      "outputs": [],
      "source": [
        "business_df_expanded = business_df_expanded.dropna(subset=['validated'])"
      ]
    },
    {
      "cell_type": "code",
      "execution_count": 139,
      "metadata": {
        "colab": {
          "base_uri": "https://localhost:8080/"
        },
        "id": "iOKE2BNfBsol",
        "outputId": "2bc97426-600e-4065-8efa-4df56dc9591d"
      },
      "outputs": [
        {
          "name": "stdout",
          "output_type": "stream",
          "text": [
            "<class 'pandas.core.frame.DataFrame'>\n",
            "Index: 86654 entries, 4 to 91084\n",
            "Data columns (total 26 columns):\n",
            " #   Column                      Non-Null Count  Dtype  \n",
            "---  ------                      --------------  -----  \n",
            " 0   business_id                 52569 non-null  object \n",
            " 1   city                        52569 non-null  object \n",
            " 2   state                       52569 non-null  object \n",
            " 3   postal_code                 52569 non-null  object \n",
            " 4   latitude                    52569 non-null  float64\n",
            " 5   longitude                   52569 non-null  float64\n",
            " 6   stars                       52569 non-null  float64\n",
            " 7   review_count                52569 non-null  float64\n",
            " 8   is_open                     52569 non-null  float64\n",
            " 9   BusinessAcceptsCreditCards  52569 non-null  float64\n",
            " 10  RestaurantsPriceRange2      52569 non-null  object \n",
            " 11  Restaurants                 52569 non-null  float64\n",
            " 12  Food                        52569 non-null  float64\n",
            " 13  Shopping                    52569 non-null  float64\n",
            " 14  Home Services               52569 non-null  float64\n",
            " 15  Beauty & Spas               52569 non-null  float64\n",
            " 16  Nightlife                   52569 non-null  float64\n",
            " 17  Health & Medical            52569 non-null  float64\n",
            " 18  Local Services              52569 non-null  float64\n",
            " 19  Bars                        52569 non-null  float64\n",
            " 20  Automotive                  52569 non-null  float64\n",
            " 21  garage                      85759 non-null  object \n",
            " 22  street                      84677 non-null  object \n",
            " 23  validated                   86654 non-null  object \n",
            " 24  lot                         85174 non-null  object \n",
            " 25  valet                       86654 non-null  object \n",
            "dtypes: float64(16), object(10)\n",
            "memory usage: 17.9+ MB\n"
          ]
        }
      ],
      "source": [
        "business_df_expanded.info()"
      ]
    },
    {
      "cell_type": "code",
      "execution_count": 140,
      "metadata": {
        "id": "3BJ8-IIiBu98"
      },
      "outputs": [],
      "source": [
        "business_df_expanded2 =business_df_expanded.copy()"
      ]
    },
    {
      "cell_type": "code",
      "execution_count": 141,
      "metadata": {
        "id": "Jphek_F8B257"
      },
      "outputs": [],
      "source": [
        "business_df_expanded2.reset_index(inplace=True,drop=True)"
      ]
    },
    {
      "cell_type": "code",
      "execution_count": 142,
      "metadata": {
        "colab": {
          "base_uri": "https://localhost:8080/",
          "height": 178
        },
        "id": "xJ6H7GcoCHin",
        "outputId": "805e88f7-5c7a-49d5-895e-c8c278311648"
      },
      "outputs": [
        {
          "data": {
            "text/plain": [
              "validated\n",
              "False    85815\n",
              "True       839\n",
              "Name: count, dtype: int64"
            ]
          },
          "execution_count": 142,
          "metadata": {},
          "output_type": "execute_result"
        }
      ],
      "source": [
        "business_df_expanded2['validated'].value_counts()\n"
      ]
    },
    {
      "cell_type": "markdown",
      "metadata": {},
      "source": [
        "### There is a Big Class Imbalance in the Validated column"
      ]
    },
    {
      "cell_type": "code",
      "execution_count": 143,
      "metadata": {
        "id": "6gtFHIWHCKOI"
      },
      "outputs": [],
      "source": [
        "\n",
        "# # Load JSON files as dataframes\n",
        "# review_df = pd.read_json('yelp_academic_dataset_review.json', lines=True)\n",
        "\n",
        "# print(\"Dataframes loaded successfully!\")"
      ]
    },
    {
      "cell_type": "code",
      "execution_count": 144,
      "metadata": {},
      "outputs": [
        {
          "name": "stdout",
          "output_type": "stream",
          "text": [
            "Successfully loaded 1000000 rows from the review dataset\n"
          ]
        }
      ],
      "source": [
        "## Loading Review data \n",
        "review_data = []\n",
        "\n",
        "# Load the file in chunks\n",
        "chunksize = 1000  # Adjust chunksize to process in smaller parts\n",
        "for chunk in pd.read_json('yelp_academic_dataset_review.json',\n",
        "                          lines=True,\n",
        "                          chunksize=chunksize):\n",
        "    review_data.append(chunk)\n",
        "\n",
        "    # Break once we have 1000k rows\n",
        "    if len(pd.concat(review_data)) >= 1000000:\n",
        "        break\n",
        "\n",
        "# Concatenate the chunks to form the full dataset with 10k rows\n",
        "review_df = pd.concat(review_data)[:1000000]\n",
        "\n",
        "print(f\"Successfully loaded {len(review_df)} rows from the review dataset\")"
      ]
    },
    {
      "cell_type": "code",
      "execution_count": 145,
      "metadata": {},
      "outputs": [
        {
          "name": "stdout",
          "output_type": "stream",
          "text": [
            "<class 'pandas.core.frame.DataFrame'>\n",
            "RangeIndex: 1000000 entries, 0 to 999999\n",
            "Data columns (total 9 columns):\n",
            " #   Column       Non-Null Count    Dtype         \n",
            "---  ------       --------------    -----         \n",
            " 0   review_id    1000000 non-null  object        \n",
            " 1   user_id      1000000 non-null  object        \n",
            " 2   business_id  1000000 non-null  object        \n",
            " 3   stars        1000000 non-null  int64         \n",
            " 4   useful       1000000 non-null  int64         \n",
            " 5   funny        1000000 non-null  int64         \n",
            " 6   cool         1000000 non-null  int64         \n",
            " 7   text         1000000 non-null  object        \n",
            " 8   date         1000000 non-null  datetime64[ns]\n",
            "dtypes: datetime64[ns](1), int64(4), object(4)\n",
            "memory usage: 68.7+ MB\n"
          ]
        }
      ],
      "source": [
        "review_df.info()"
      ]
    },
    {
      "cell_type": "code",
      "execution_count": 146,
      "metadata": {},
      "outputs": [],
      "source": [
        "merged_df = business_df_expanded2.merge(review_df, on='business_id', how='inner')"
      ]
    },
    {
      "cell_type": "code",
      "execution_count": 147,
      "metadata": {},
      "outputs": [
        {
          "data": {
            "text/html": [
              "<div>\n",
              "<style scoped>\n",
              "    .dataframe tbody tr th:only-of-type {\n",
              "        vertical-align: middle;\n",
              "    }\n",
              "\n",
              "    .dataframe tbody tr th {\n",
              "        vertical-align: top;\n",
              "    }\n",
              "\n",
              "    .dataframe thead th {\n",
              "        text-align: right;\n",
              "    }\n",
              "</style>\n",
              "<table border=\"1\" class=\"dataframe\">\n",
              "  <thead>\n",
              "    <tr style=\"text-align: right;\">\n",
              "      <th></th>\n",
              "      <th>business_id</th>\n",
              "      <th>city</th>\n",
              "      <th>state</th>\n",
              "      <th>postal_code</th>\n",
              "      <th>latitude</th>\n",
              "      <th>longitude</th>\n",
              "      <th>stars_x</th>\n",
              "      <th>review_count</th>\n",
              "      <th>is_open</th>\n",
              "      <th>BusinessAcceptsCreditCards</th>\n",
              "      <th>...</th>\n",
              "      <th>lot</th>\n",
              "      <th>valet</th>\n",
              "      <th>review_id</th>\n",
              "      <th>user_id</th>\n",
              "      <th>stars_y</th>\n",
              "      <th>useful</th>\n",
              "      <th>funny</th>\n",
              "      <th>cool</th>\n",
              "      <th>text</th>\n",
              "      <th>date</th>\n",
              "    </tr>\n",
              "  </thead>\n",
              "  <tbody>\n",
              "    <tr>\n",
              "      <th>0</th>\n",
              "      <td>mWMc6_wTdE0EUBKIGXDVfA</td>\n",
              "      <td>Green Lane</td>\n",
              "      <td>PA</td>\n",
              "      <td>18054</td>\n",
              "      <td>40.338183</td>\n",
              "      <td>-75.471659</td>\n",
              "      <td>4.5</td>\n",
              "      <td>13.0</td>\n",
              "      <td>1.0</td>\n",
              "      <td>2.0</td>\n",
              "      <td>...</td>\n",
              "      <td>True</td>\n",
              "      <td>False</td>\n",
              "      <td>aymw6DJh-j3Kkb4DhLSHmQ</td>\n",
              "      <td>lrtGPAmDqCFnbfAKiB4NmA</td>\n",
              "      <td>4</td>\n",
              "      <td>0</td>\n",
              "      <td>0</td>\n",
              "      <td>0</td>\n",
              "      <td>The craft brewery scene has finally hit the sl...</td>\n",
              "      <td>2019-11-02 01:18:50</td>\n",
              "    </tr>\n",
              "    <tr>\n",
              "      <th>1</th>\n",
              "      <td>mWMc6_wTdE0EUBKIGXDVfA</td>\n",
              "      <td>Green Lane</td>\n",
              "      <td>PA</td>\n",
              "      <td>18054</td>\n",
              "      <td>40.338183</td>\n",
              "      <td>-75.471659</td>\n",
              "      <td>4.5</td>\n",
              "      <td>13.0</td>\n",
              "      <td>1.0</td>\n",
              "      <td>2.0</td>\n",
              "      <td>...</td>\n",
              "      <td>True</td>\n",
              "      <td>False</td>\n",
              "      <td>ApjOijn6shg7IRSus0awMg</td>\n",
              "      <td>Qp43wr0CkKw4W79MFu_MGw</td>\n",
              "      <td>5</td>\n",
              "      <td>0</td>\n",
              "      <td>0</td>\n",
              "      <td>0</td>\n",
              "      <td>Glad to have a local brewery so close to my ho...</td>\n",
              "      <td>2019-08-16 13:26:24</td>\n",
              "    </tr>\n",
              "    <tr>\n",
              "      <th>2</th>\n",
              "      <td>mWMc6_wTdE0EUBKIGXDVfA</td>\n",
              "      <td>Green Lane</td>\n",
              "      <td>PA</td>\n",
              "      <td>18054</td>\n",
              "      <td>40.338183</td>\n",
              "      <td>-75.471659</td>\n",
              "      <td>4.5</td>\n",
              "      <td>13.0</td>\n",
              "      <td>1.0</td>\n",
              "      <td>2.0</td>\n",
              "      <td>...</td>\n",
              "      <td>True</td>\n",
              "      <td>False</td>\n",
              "      <td>LsHkuF1GP9H-6arEgwzUWg</td>\n",
              "      <td>DCvqkfO3exqOaTf0-fvyLQ</td>\n",
              "      <td>5</td>\n",
              "      <td>0</td>\n",
              "      <td>0</td>\n",
              "      <td>0</td>\n",
              "      <td>First visit to this new and very local brewery...</td>\n",
              "      <td>2019-11-24 03:49:39</td>\n",
              "    </tr>\n",
              "    <tr>\n",
              "      <th>3</th>\n",
              "      <td>mWMc6_wTdE0EUBKIGXDVfA</td>\n",
              "      <td>Green Lane</td>\n",
              "      <td>PA</td>\n",
              "      <td>18054</td>\n",
              "      <td>40.338183</td>\n",
              "      <td>-75.471659</td>\n",
              "      <td>4.5</td>\n",
              "      <td>13.0</td>\n",
              "      <td>1.0</td>\n",
              "      <td>2.0</td>\n",
              "      <td>...</td>\n",
              "      <td>True</td>\n",
              "      <td>False</td>\n",
              "      <td>4WUbaBVdES19JKWF7Gvh7g</td>\n",
              "      <td>Y7BFSuNRNzvFbyZcZSXQJw</td>\n",
              "      <td>5</td>\n",
              "      <td>0</td>\n",
              "      <td>0</td>\n",
              "      <td>0</td>\n",
              "      <td>What an amazing brewery and an absolute asset ...</td>\n",
              "      <td>2020-02-27 06:21:36</td>\n",
              "    </tr>\n",
              "    <tr>\n",
              "      <th>4</th>\n",
              "      <td>mWMc6_wTdE0EUBKIGXDVfA</td>\n",
              "      <td>Green Lane</td>\n",
              "      <td>PA</td>\n",
              "      <td>18054</td>\n",
              "      <td>40.338183</td>\n",
              "      <td>-75.471659</td>\n",
              "      <td>4.5</td>\n",
              "      <td>13.0</td>\n",
              "      <td>1.0</td>\n",
              "      <td>2.0</td>\n",
              "      <td>...</td>\n",
              "      <td>True</td>\n",
              "      <td>False</td>\n",
              "      <td>pcy8VIa3REGXpFPy2KzRkg</td>\n",
              "      <td>rNU2GcAFNSc4XsZQkEbmWw</td>\n",
              "      <td>5</td>\n",
              "      <td>0</td>\n",
              "      <td>0</td>\n",
              "      <td>0</td>\n",
              "      <td>Great atmosphere, cool people and excellent be...</td>\n",
              "      <td>2019-08-03 02:24:02</td>\n",
              "    </tr>\n",
              "    <tr>\n",
              "      <th>...</th>\n",
              "      <td>...</td>\n",
              "      <td>...</td>\n",
              "      <td>...</td>\n",
              "      <td>...</td>\n",
              "      <td>...</td>\n",
              "      <td>...</td>\n",
              "      <td>...</td>\n",
              "      <td>...</td>\n",
              "      <td>...</td>\n",
              "      <td>...</td>\n",
              "      <td>...</td>\n",
              "      <td>...</td>\n",
              "      <td>...</td>\n",
              "      <td>...</td>\n",
              "      <td>...</td>\n",
              "      <td>...</td>\n",
              "      <td>...</td>\n",
              "      <td>...</td>\n",
              "      <td>...</td>\n",
              "      <td>...</td>\n",
              "      <td>...</td>\n",
              "    </tr>\n",
              "    <tr>\n",
              "      <th>811077</th>\n",
              "      <td>I13HqIkWfR6CydGbo9xv0A</td>\n",
              "      <td>Madeira Beach</td>\n",
              "      <td>FL</td>\n",
              "      <td>33708</td>\n",
              "      <td>27.803259</td>\n",
              "      <td>-82.803567</td>\n",
              "      <td>4.5</td>\n",
              "      <td>298.0</td>\n",
              "      <td>1.0</td>\n",
              "      <td>2.0</td>\n",
              "      <td>...</td>\n",
              "      <td>True</td>\n",
              "      <td>False</td>\n",
              "      <td>BtyBJi32pqrwU7kORI1zFw</td>\n",
              "      <td>CRnk0F7EUMLxwHlhrb2FLg</td>\n",
              "      <td>5</td>\n",
              "      <td>0</td>\n",
              "      <td>0</td>\n",
              "      <td>0</td>\n",
              "      <td>Some of the best ice cream I have ever had! I ...</td>\n",
              "      <td>2017-12-25 19:20:51</td>\n",
              "    </tr>\n",
              "    <tr>\n",
              "      <th>811078</th>\n",
              "      <td>I13HqIkWfR6CydGbo9xv0A</td>\n",
              "      <td>Madeira Beach</td>\n",
              "      <td>FL</td>\n",
              "      <td>33708</td>\n",
              "      <td>27.803259</td>\n",
              "      <td>-82.803567</td>\n",
              "      <td>4.5</td>\n",
              "      <td>298.0</td>\n",
              "      <td>1.0</td>\n",
              "      <td>2.0</td>\n",
              "      <td>...</td>\n",
              "      <td>True</td>\n",
              "      <td>False</td>\n",
              "      <td>tCQ_--f2rRjo14T1xOfetw</td>\n",
              "      <td>rBdy4XFsqDGlcBORVbmKJA</td>\n",
              "      <td>5</td>\n",
              "      <td>5</td>\n",
              "      <td>0</td>\n",
              "      <td>2</td>\n",
              "      <td>Haze is my go to ice cream spot on the beach. ...</td>\n",
              "      <td>2016-09-17 19:12:15</td>\n",
              "    </tr>\n",
              "    <tr>\n",
              "      <th>811079</th>\n",
              "      <td>I13HqIkWfR6CydGbo9xv0A</td>\n",
              "      <td>Madeira Beach</td>\n",
              "      <td>FL</td>\n",
              "      <td>33708</td>\n",
              "      <td>27.803259</td>\n",
              "      <td>-82.803567</td>\n",
              "      <td>4.5</td>\n",
              "      <td>298.0</td>\n",
              "      <td>1.0</td>\n",
              "      <td>2.0</td>\n",
              "      <td>...</td>\n",
              "      <td>True</td>\n",
              "      <td>False</td>\n",
              "      <td>lYosd4k9yOSIoU8_5lfwyA</td>\n",
              "      <td>snlI_wva-rGtqiLJcrwKRA</td>\n",
              "      <td>5</td>\n",
              "      <td>0</td>\n",
              "      <td>0</td>\n",
              "      <td>0</td>\n",
              "      <td>An ice cream gem! Try their Oreo red velvet. S...</td>\n",
              "      <td>2019-04-05 00:43:36</td>\n",
              "    </tr>\n",
              "    <tr>\n",
              "      <th>811080</th>\n",
              "      <td>I13HqIkWfR6CydGbo9xv0A</td>\n",
              "      <td>Madeira Beach</td>\n",
              "      <td>FL</td>\n",
              "      <td>33708</td>\n",
              "      <td>27.803259</td>\n",
              "      <td>-82.803567</td>\n",
              "      <td>4.5</td>\n",
              "      <td>298.0</td>\n",
              "      <td>1.0</td>\n",
              "      <td>2.0</td>\n",
              "      <td>...</td>\n",
              "      <td>True</td>\n",
              "      <td>False</td>\n",
              "      <td>c_BuAHjcVnOBjCnYVvnX3g</td>\n",
              "      <td>1nIjaow2-lU9IRX9drcHKA</td>\n",
              "      <td>5</td>\n",
              "      <td>1</td>\n",
              "      <td>0</td>\n",
              "      <td>0</td>\n",
              "      <td>This is the place to go if you want hand-craft...</td>\n",
              "      <td>2015-12-15 14:05:53</td>\n",
              "    </tr>\n",
              "    <tr>\n",
              "      <th>811081</th>\n",
              "      <td>I13HqIkWfR6CydGbo9xv0A</td>\n",
              "      <td>Madeira Beach</td>\n",
              "      <td>FL</td>\n",
              "      <td>33708</td>\n",
              "      <td>27.803259</td>\n",
              "      <td>-82.803567</td>\n",
              "      <td>4.5</td>\n",
              "      <td>298.0</td>\n",
              "      <td>1.0</td>\n",
              "      <td>2.0</td>\n",
              "      <td>...</td>\n",
              "      <td>True</td>\n",
              "      <td>False</td>\n",
              "      <td>iltdbmZFOhZFGCA4HfMtLQ</td>\n",
              "      <td>ZzwXk39BPtJ2DAyEtF0PRQ</td>\n",
              "      <td>5</td>\n",
              "      <td>0</td>\n",
              "      <td>0</td>\n",
              "      <td>0</td>\n",
              "      <td>This is the best ice cream I have ever eaten!!...</td>\n",
              "      <td>2018-06-19 03:25:28</td>\n",
              "    </tr>\n",
              "  </tbody>\n",
              "</table>\n",
              "<p>811082 rows × 34 columns</p>\n",
              "</div>"
            ],
            "text/plain": [
              "                   business_id           city state postal_code   latitude  \\\n",
              "0       mWMc6_wTdE0EUBKIGXDVfA     Green Lane    PA       18054  40.338183   \n",
              "1       mWMc6_wTdE0EUBKIGXDVfA     Green Lane    PA       18054  40.338183   \n",
              "2       mWMc6_wTdE0EUBKIGXDVfA     Green Lane    PA       18054  40.338183   \n",
              "3       mWMc6_wTdE0EUBKIGXDVfA     Green Lane    PA       18054  40.338183   \n",
              "4       mWMc6_wTdE0EUBKIGXDVfA     Green Lane    PA       18054  40.338183   \n",
              "...                        ...            ...   ...         ...        ...   \n",
              "811077  I13HqIkWfR6CydGbo9xv0A  Madeira Beach    FL       33708  27.803259   \n",
              "811078  I13HqIkWfR6CydGbo9xv0A  Madeira Beach    FL       33708  27.803259   \n",
              "811079  I13HqIkWfR6CydGbo9xv0A  Madeira Beach    FL       33708  27.803259   \n",
              "811080  I13HqIkWfR6CydGbo9xv0A  Madeira Beach    FL       33708  27.803259   \n",
              "811081  I13HqIkWfR6CydGbo9xv0A  Madeira Beach    FL       33708  27.803259   \n",
              "\n",
              "        longitude  stars_x  review_count  is_open  BusinessAcceptsCreditCards  \\\n",
              "0      -75.471659      4.5          13.0      1.0                         2.0   \n",
              "1      -75.471659      4.5          13.0      1.0                         2.0   \n",
              "2      -75.471659      4.5          13.0      1.0                         2.0   \n",
              "3      -75.471659      4.5          13.0      1.0                         2.0   \n",
              "4      -75.471659      4.5          13.0      1.0                         2.0   \n",
              "...           ...      ...           ...      ...                         ...   \n",
              "811077 -82.803567      4.5         298.0      1.0                         2.0   \n",
              "811078 -82.803567      4.5         298.0      1.0                         2.0   \n",
              "811079 -82.803567      4.5         298.0      1.0                         2.0   \n",
              "811080 -82.803567      4.5         298.0      1.0                         2.0   \n",
              "811081 -82.803567      4.5         298.0      1.0                         2.0   \n",
              "\n",
              "        ...   lot  valet               review_id                 user_id  \\\n",
              "0       ...  True  False  aymw6DJh-j3Kkb4DhLSHmQ  lrtGPAmDqCFnbfAKiB4NmA   \n",
              "1       ...  True  False  ApjOijn6shg7IRSus0awMg  Qp43wr0CkKw4W79MFu_MGw   \n",
              "2       ...  True  False  LsHkuF1GP9H-6arEgwzUWg  DCvqkfO3exqOaTf0-fvyLQ   \n",
              "3       ...  True  False  4WUbaBVdES19JKWF7Gvh7g  Y7BFSuNRNzvFbyZcZSXQJw   \n",
              "4       ...  True  False  pcy8VIa3REGXpFPy2KzRkg  rNU2GcAFNSc4XsZQkEbmWw   \n",
              "...     ...   ...    ...                     ...                     ...   \n",
              "811077  ...  True  False  BtyBJi32pqrwU7kORI1zFw  CRnk0F7EUMLxwHlhrb2FLg   \n",
              "811078  ...  True  False  tCQ_--f2rRjo14T1xOfetw  rBdy4XFsqDGlcBORVbmKJA   \n",
              "811079  ...  True  False  lYosd4k9yOSIoU8_5lfwyA  snlI_wva-rGtqiLJcrwKRA   \n",
              "811080  ...  True  False  c_BuAHjcVnOBjCnYVvnX3g  1nIjaow2-lU9IRX9drcHKA   \n",
              "811081  ...  True  False  iltdbmZFOhZFGCA4HfMtLQ  ZzwXk39BPtJ2DAyEtF0PRQ   \n",
              "\n",
              "        stars_y  useful  funny  cool  \\\n",
              "0             4       0      0     0   \n",
              "1             5       0      0     0   \n",
              "2             5       0      0     0   \n",
              "3             5       0      0     0   \n",
              "4             5       0      0     0   \n",
              "...         ...     ...    ...   ...   \n",
              "811077        5       0      0     0   \n",
              "811078        5       5      0     2   \n",
              "811079        5       0      0     0   \n",
              "811080        5       1      0     0   \n",
              "811081        5       0      0     0   \n",
              "\n",
              "                                                     text                date  \n",
              "0       The craft brewery scene has finally hit the sl... 2019-11-02 01:18:50  \n",
              "1       Glad to have a local brewery so close to my ho... 2019-08-16 13:26:24  \n",
              "2       First visit to this new and very local brewery... 2019-11-24 03:49:39  \n",
              "3       What an amazing brewery and an absolute asset ... 2020-02-27 06:21:36  \n",
              "4       Great atmosphere, cool people and excellent be... 2019-08-03 02:24:02  \n",
              "...                                                   ...                 ...  \n",
              "811077  Some of the best ice cream I have ever had! I ... 2017-12-25 19:20:51  \n",
              "811078  Haze is my go to ice cream spot on the beach. ... 2016-09-17 19:12:15  \n",
              "811079  An ice cream gem! Try their Oreo red velvet. S... 2019-04-05 00:43:36  \n",
              "811080  This is the place to go if you want hand-craft... 2015-12-15 14:05:53  \n",
              "811081  This is the best ice cream I have ever eaten!!... 2018-06-19 03:25:28  \n",
              "\n",
              "[811082 rows x 34 columns]"
            ]
          },
          "execution_count": 147,
          "metadata": {},
          "output_type": "execute_result"
        }
      ],
      "source": [
        "merged_df"
      ]
    },
    {
      "cell_type": "code",
      "execution_count": null,
      "metadata": {},
      "outputs": [],
      "source": []
    },
    {
      "cell_type": "code",
      "execution_count": 148,
      "metadata": {},
      "outputs": [
        {
          "data": {
            "text/plain": [
              "(811082, 34)"
            ]
          },
          "execution_count": 148,
          "metadata": {},
          "output_type": "execute_result"
        }
      ],
      "source": [
        "merged_df.shape"
      ]
    },
    {
      "cell_type": "code",
      "execution_count": 149,
      "metadata": {},
      "outputs": [
        {
          "data": {
            "text/plain": [
              "business_id                       0\n",
              "city                              0\n",
              "state                             0\n",
              "postal_code                       0\n",
              "latitude                          0\n",
              "longitude                         0\n",
              "stars_x                           0\n",
              "review_count                      0\n",
              "is_open                           0\n",
              "BusinessAcceptsCreditCards        0\n",
              "RestaurantsPriceRange2            0\n",
              "Restaurants                       0\n",
              "Food                              0\n",
              "Shopping                          0\n",
              "Home Services                     0\n",
              "Beauty & Spas                     0\n",
              "Nightlife                         0\n",
              "Health & Medical                  0\n",
              "Local Services                    0\n",
              "Bars                              0\n",
              "Automotive                        0\n",
              "garage                         8431\n",
              "street                        21172\n",
              "validated                         0\n",
              "lot                           20207\n",
              "valet                             0\n",
              "review_id                         0\n",
              "user_id                           0\n",
              "stars_y                           0\n",
              "useful                            0\n",
              "funny                             0\n",
              "cool                              0\n",
              "text                              0\n",
              "date                              0\n",
              "dtype: int64"
            ]
          },
          "execution_count": 149,
          "metadata": {},
          "output_type": "execute_result"
        }
      ],
      "source": [
        "merged_df.isnull().sum()"
      ]
    },
    {
      "cell_type": "code",
      "execution_count": 150,
      "metadata": {},
      "outputs": [
        {
          "data": {
            "text/plain": [
              "7581"
            ]
          },
          "execution_count": 150,
          "metadata": {},
          "output_type": "execute_result"
        }
      ],
      "source": [
        "merged_df['validated'].value_counts().min()"
      ]
    },
    {
      "cell_type": "code",
      "execution_count": 151,
      "metadata": {},
      "outputs": [
        {
          "data": {
            "text/plain": [
              "803501"
            ]
          },
          "execution_count": 151,
          "metadata": {},
          "output_type": "execute_result"
        }
      ],
      "source": [
        "merged_df['validated'].value_counts().max()"
      ]
    },
    {
      "cell_type": "code",
      "execution_count": 152,
      "metadata": {},
      "outputs": [
        {
          "data": {
            "text/plain": [
              "validated\n",
              "False    803501\n",
              "True       7581\n",
              "Name: count, dtype: int64"
            ]
          },
          "execution_count": 152,
          "metadata": {},
          "output_type": "execute_result"
        }
      ],
      "source": [
        "merged_df['validated'].value_counts()"
      ]
    },
    {
      "cell_type": "code",
      "execution_count": 153,
      "metadata": {},
      "outputs": [],
      "source": [
        "# Downsampling \n",
        "minority_size = merged_df['validated'].value_counts().min()\n",
        "\n",
        "downsample_df = merged_df.groupby('validated').apply(lambda x: x.sample(minority_size)).reset_index(drop=True)"
      ]
    },
    {
      "cell_type": "code",
      "execution_count": 154,
      "metadata": {},
      "outputs": [
        {
          "data": {
            "text/plain": [
              "validated\n",
              "False    7581\n",
              "True     7581\n",
              "Name: count, dtype: int64"
            ]
          },
          "execution_count": 154,
          "metadata": {},
          "output_type": "execute_result"
        }
      ],
      "source": [
        "downsample_df['validated'].value_counts()"
      ]
    },
    {
      "cell_type": "code",
      "execution_count": 155,
      "metadata": {},
      "outputs": [
        {
          "data": {
            "text/plain": [
              "(15162, 34)"
            ]
          },
          "execution_count": 155,
          "metadata": {},
          "output_type": "execute_result"
        }
      ],
      "source": [
        "downsample_df.shape"
      ]
    },
    {
      "cell_type": "code",
      "execution_count": 156,
      "metadata": {},
      "outputs": [],
      "source": [
        "new_df = downsample_df"
      ]
    },
    {
      "cell_type": "code",
      "execution_count": 157,
      "metadata": {},
      "outputs": [
        {
          "data": {
            "text/plain": [
              "business_id                     0\n",
              "city                            0\n",
              "state                           0\n",
              "postal_code                     0\n",
              "latitude                        0\n",
              "longitude                       0\n",
              "stars_x                         0\n",
              "review_count                    0\n",
              "is_open                         0\n",
              "BusinessAcceptsCreditCards      0\n",
              "RestaurantsPriceRange2          0\n",
              "Restaurants                     0\n",
              "Food                            0\n",
              "Shopping                        0\n",
              "Home Services                   0\n",
              "Beauty & Spas                   0\n",
              "Nightlife                       0\n",
              "Health & Medical                0\n",
              "Local Services                  0\n",
              "Bars                            0\n",
              "Automotive                      0\n",
              "garage                         90\n",
              "street                        197\n",
              "validated                       0\n",
              "lot                           176\n",
              "valet                           0\n",
              "review_id                       0\n",
              "user_id                         0\n",
              "stars_y                         0\n",
              "useful                          0\n",
              "funny                           0\n",
              "cool                            0\n",
              "text                            0\n",
              "date                            0\n",
              "dtype: int64"
            ]
          },
          "execution_count": 157,
          "metadata": {},
          "output_type": "execute_result"
        }
      ],
      "source": [
        "new_df.isnull().sum()"
      ]
    },
    {
      "cell_type": "code",
      "execution_count": 158,
      "metadata": {},
      "outputs": [],
      "source": [
        "new_df.reset_index(inplace=True,drop=True)"
      ]
    },
    {
      "cell_type": "code",
      "execution_count": 159,
      "metadata": {},
      "outputs": [],
      "source": [
        "## Outlier Handling \n",
        "for column in ['useful', 'funny', 'cool']:\n",
        "    threshold = new_df[column].quantile(0.95)\n",
        "    new_df = new_df[new_df[column] <= threshold]"
      ]
    },
    {
      "cell_type": "code",
      "execution_count": 196,
      "metadata": {},
      "outputs": [
        {
          "name": "stdout",
          "output_type": "stream",
          "text": [
            "<class 'pandas.core.frame.DataFrame'>\n",
            "Index: 13241 entries, 0 to 15161\n",
            "Data columns (total 34 columns):\n",
            " #   Column                      Non-Null Count  Dtype         \n",
            "---  ------                      --------------  -----         \n",
            " 0   business_id                 13241 non-null  object        \n",
            " 1   city                        13241 non-null  object        \n",
            " 2   state                       13241 non-null  object        \n",
            " 3   postal_code                 13241 non-null  object        \n",
            " 4   latitude                    13241 non-null  float64       \n",
            " 5   longitude                   13241 non-null  float64       \n",
            " 6   stars_x                     13241 non-null  float64       \n",
            " 7   review_count                13241 non-null  float64       \n",
            " 8   is_open                     13241 non-null  float64       \n",
            " 9   BusinessAcceptsCreditCards  13241 non-null  float64       \n",
            " 10  RestaurantsPriceRange2      13241 non-null  object        \n",
            " 11  Restaurants                 13241 non-null  float64       \n",
            " 12  Food                        13241 non-null  float64       \n",
            " 13  Shopping                    13241 non-null  float64       \n",
            " 14  Home Services               13241 non-null  float64       \n",
            " 15  Beauty & Spas               13241 non-null  float64       \n",
            " 16  Nightlife                   13241 non-null  float64       \n",
            " 17  Health & Medical            13241 non-null  float64       \n",
            " 18  Local Services              13241 non-null  float64       \n",
            " 19  Bars                        13241 non-null  float64       \n",
            " 20  Automotive                  13241 non-null  float64       \n",
            " 21  garage                      13166 non-null  object        \n",
            " 22  street                      13069 non-null  object        \n",
            " 23  validated                   13241 non-null  object        \n",
            " 24  lot                         13086 non-null  object        \n",
            " 25  valet                       13241 non-null  object        \n",
            " 26  review_id                   13241 non-null  object        \n",
            " 27  user_id                     13241 non-null  object        \n",
            " 28  stars_y                     13241 non-null  int64         \n",
            " 29  useful                      13241 non-null  int64         \n",
            " 30  funny                       13241 non-null  int64         \n",
            " 31  cool                        13241 non-null  int64         \n",
            " 32  text                        13241 non-null  object        \n",
            " 33  date                        13241 non-null  datetime64[ns]\n",
            "dtypes: datetime64[ns](1), float64(16), int64(4), object(13)\n",
            "memory usage: 3.5+ MB\n"
          ]
        }
      ],
      "source": [
        "new_df.info()"
      ]
    },
    {
      "cell_type": "markdown",
      "metadata": {},
      "source": [
        "## Separate X and y "
      ]
    },
    {
      "cell_type": "code",
      "execution_count": 194,
      "metadata": {},
      "outputs": [],
      "source": [
        "X = merged_df.drop('validated', axis=1)\n",
        "y = merged_df['validated']"
      ]
    },
    {
      "cell_type": "code",
      "execution_count": 199,
      "metadata": {},
      "outputs": [
        {
          "data": {
            "text/plain": [
              "validated\n",
              "False    803501\n",
              "True       7581\n",
              "Name: count, dtype: int64"
            ]
          },
          "execution_count": 199,
          "metadata": {},
          "output_type": "execute_result"
        }
      ],
      "source": [
        "y.value_counts()"
      ]
    },
    {
      "cell_type": "markdown",
      "metadata": {},
      "source": [
        "Fill Missing Values or Convert to a Common Format"
      ]
    },
    {
      "cell_type": "code",
      "execution_count": 201,
      "metadata": {},
      "outputs": [],
      "source": [
        "# Define columns that are boolean-like\n",
        "boolean_columns = ['is_open', 'BusinessAcceptsCreditCards', 'Restaurants', 'Food', 'Shopping', \n",
        "                   'Home Services', 'Beauty & Spas', 'Nightlife', 'Health & Medical', \n",
        "                   'Local Services', 'Bars', 'Automotive', 'garage', 'street', 'lot', 'valet', \n",
        "                   'useful', 'funny', 'cool']\n",
        "\n",
        "# Convert boolean-like columns to 0/1, ensuring all None/NaN are handled\n",
        "for col in boolean_columns:\n",
        "    # Fill NaN or None with a default value, e.g., False (which will be converted to 0)\n",
        "    X[col] = X[col].fillna(False).astype(int)\n"
      ]
    },
    {
      "cell_type": "markdown",
      "metadata": {},
      "source": [
        " Used LabelEncoder for Non-Boolean Categorical Columns"
      ]
    },
    {
      "cell_type": "code",
      "execution_count": 202,
      "metadata": {},
      "outputs": [],
      "source": [
        "from sklearn.preprocessing import LabelEncoder\n",
        "\n",
        "# Example for other categorical columns\n",
        "categorical_columns = ['state', 'RestaurantsPriceRange2']  # Add other non-boolean categorical columns as needed\n",
        "\n",
        "label_encoder = LabelEncoder()\n",
        "\n",
        "for col in categorical_columns:\n",
        "    # Fill NaNs with a placeholder string\n",
        "    X[col] = X[col].fillna('Unknown')\n",
        "    X[col] = label_encoder.fit_transform(X[col])\n"
      ]
    },
    {
      "cell_type": "code",
      "execution_count": 203,
      "metadata": {},
      "outputs": [
        {
          "name": "stdout",
          "output_type": "stream",
          "text": [
            "business_id                           object\n",
            "city                                  object\n",
            "state                                  int64\n",
            "postal_code                           object\n",
            "latitude                             float64\n",
            "longitude                            float64\n",
            "stars_x                              float64\n",
            "review_count                         float64\n",
            "is_open                                int64\n",
            "BusinessAcceptsCreditCards             int64\n",
            "RestaurantsPriceRange2                 int64\n",
            "Restaurants                            int64\n",
            "Food                                   int64\n",
            "Shopping                               int64\n",
            "Home Services                          int64\n",
            "Beauty & Spas                          int64\n",
            "Nightlife                              int64\n",
            "Health & Medical                       int64\n",
            "Local Services                         int64\n",
            "Bars                                   int64\n",
            "Automotive                             int64\n",
            "garage                                 int64\n",
            "street                                 int64\n",
            "lot                                    int64\n",
            "valet                                  int64\n",
            "review_id                             object\n",
            "user_id                               object\n",
            "stars_y                                int64\n",
            "useful                                 int64\n",
            "funny                                  int64\n",
            "cool                                   int64\n",
            "text                                  object\n",
            "date                          datetime64[ns]\n",
            "dtype: object\n",
            "business_id                   0\n",
            "city                          0\n",
            "state                         0\n",
            "postal_code                   0\n",
            "latitude                      0\n",
            "longitude                     0\n",
            "stars_x                       0\n",
            "review_count                  0\n",
            "is_open                       0\n",
            "BusinessAcceptsCreditCards    0\n",
            "RestaurantsPriceRange2        0\n",
            "Restaurants                   0\n",
            "Food                          0\n",
            "Shopping                      0\n",
            "Home Services                 0\n",
            "Beauty & Spas                 0\n",
            "Nightlife                     0\n",
            "Health & Medical              0\n",
            "Local Services                0\n",
            "Bars                          0\n",
            "Automotive                    0\n",
            "garage                        0\n",
            "street                        0\n",
            "lot                           0\n",
            "valet                         0\n",
            "review_id                     0\n",
            "user_id                       0\n",
            "stars_y                       0\n",
            "useful                        0\n",
            "funny                         0\n",
            "cool                          0\n",
            "text                          0\n",
            "date                          0\n",
            "dtype: int64\n"
          ]
        }
      ],
      "source": [
        "# Checking the data types and missing values\n",
        "print(X.dtypes)\n",
        "print(X.isnull().sum())  "
      ]
    },
    {
      "cell_type": "markdown",
      "metadata": {},
      "source": [
        "### Cleaning Features which is not needed "
      ]
    },
    {
      "cell_type": "code",
      "execution_count": 204,
      "metadata": {},
      "outputs": [],
      "source": [
        "X.drop(['business_id','latitude','longitude','postal_code','city','review_id','user_id','text','date'], axis=1, inplace=True)\n",
        "X['business_stars'] = X['stars_x']\n",
        "X['review_stars'] = X['stars_y']\n",
        "X.drop(['stars_x','stars_y'], axis=1, inplace=True)"
      ]
    },
    {
      "cell_type": "code",
      "execution_count": 205,
      "metadata": {},
      "outputs": [
        {
          "data": {
            "text/html": [
              "<div>\n",
              "<style scoped>\n",
              "    .dataframe tbody tr th:only-of-type {\n",
              "        vertical-align: middle;\n",
              "    }\n",
              "\n",
              "    .dataframe tbody tr th {\n",
              "        vertical-align: top;\n",
              "    }\n",
              "\n",
              "    .dataframe thead th {\n",
              "        text-align: right;\n",
              "    }\n",
              "</style>\n",
              "<table border=\"1\" class=\"dataframe\">\n",
              "  <thead>\n",
              "    <tr style=\"text-align: right;\">\n",
              "      <th></th>\n",
              "      <th>state</th>\n",
              "      <th>review_count</th>\n",
              "      <th>is_open</th>\n",
              "      <th>BusinessAcceptsCreditCards</th>\n",
              "      <th>RestaurantsPriceRange2</th>\n",
              "      <th>Restaurants</th>\n",
              "      <th>Food</th>\n",
              "      <th>Shopping</th>\n",
              "      <th>Home Services</th>\n",
              "      <th>Beauty &amp; Spas</th>\n",
              "      <th>...</th>\n",
              "      <th>Automotive</th>\n",
              "      <th>garage</th>\n",
              "      <th>street</th>\n",
              "      <th>lot</th>\n",
              "      <th>valet</th>\n",
              "      <th>useful</th>\n",
              "      <th>funny</th>\n",
              "      <th>cool</th>\n",
              "      <th>business_stars</th>\n",
              "      <th>review_stars</th>\n",
              "    </tr>\n",
              "  </thead>\n",
              "  <tbody>\n",
              "    <tr>\n",
              "      <th>0</th>\n",
              "      <td>14</td>\n",
              "      <td>13.0</td>\n",
              "      <td>1</td>\n",
              "      <td>2</td>\n",
              "      <td>5</td>\n",
              "      <td>0</td>\n",
              "      <td>1</td>\n",
              "      <td>0</td>\n",
              "      <td>0</td>\n",
              "      <td>0</td>\n",
              "      <td>...</td>\n",
              "      <td>0</td>\n",
              "      <td>0</td>\n",
              "      <td>0</td>\n",
              "      <td>1</td>\n",
              "      <td>0</td>\n",
              "      <td>0</td>\n",
              "      <td>0</td>\n",
              "      <td>0</td>\n",
              "      <td>4.5</td>\n",
              "      <td>4</td>\n",
              "    </tr>\n",
              "    <tr>\n",
              "      <th>1</th>\n",
              "      <td>14</td>\n",
              "      <td>13.0</td>\n",
              "      <td>1</td>\n",
              "      <td>2</td>\n",
              "      <td>5</td>\n",
              "      <td>0</td>\n",
              "      <td>1</td>\n",
              "      <td>0</td>\n",
              "      <td>0</td>\n",
              "      <td>0</td>\n",
              "      <td>...</td>\n",
              "      <td>0</td>\n",
              "      <td>0</td>\n",
              "      <td>0</td>\n",
              "      <td>1</td>\n",
              "      <td>0</td>\n",
              "      <td>0</td>\n",
              "      <td>0</td>\n",
              "      <td>0</td>\n",
              "      <td>4.5</td>\n",
              "      <td>5</td>\n",
              "    </tr>\n",
              "    <tr>\n",
              "      <th>2</th>\n",
              "      <td>14</td>\n",
              "      <td>13.0</td>\n",
              "      <td>1</td>\n",
              "      <td>2</td>\n",
              "      <td>5</td>\n",
              "      <td>0</td>\n",
              "      <td>1</td>\n",
              "      <td>0</td>\n",
              "      <td>0</td>\n",
              "      <td>0</td>\n",
              "      <td>...</td>\n",
              "      <td>0</td>\n",
              "      <td>0</td>\n",
              "      <td>0</td>\n",
              "      <td>1</td>\n",
              "      <td>0</td>\n",
              "      <td>0</td>\n",
              "      <td>0</td>\n",
              "      <td>0</td>\n",
              "      <td>4.5</td>\n",
              "      <td>5</td>\n",
              "    </tr>\n",
              "    <tr>\n",
              "      <th>3</th>\n",
              "      <td>14</td>\n",
              "      <td>13.0</td>\n",
              "      <td>1</td>\n",
              "      <td>2</td>\n",
              "      <td>5</td>\n",
              "      <td>0</td>\n",
              "      <td>1</td>\n",
              "      <td>0</td>\n",
              "      <td>0</td>\n",
              "      <td>0</td>\n",
              "      <td>...</td>\n",
              "      <td>0</td>\n",
              "      <td>0</td>\n",
              "      <td>0</td>\n",
              "      <td>1</td>\n",
              "      <td>0</td>\n",
              "      <td>0</td>\n",
              "      <td>0</td>\n",
              "      <td>0</td>\n",
              "      <td>4.5</td>\n",
              "      <td>5</td>\n",
              "    </tr>\n",
              "    <tr>\n",
              "      <th>4</th>\n",
              "      <td>14</td>\n",
              "      <td>13.0</td>\n",
              "      <td>1</td>\n",
              "      <td>2</td>\n",
              "      <td>5</td>\n",
              "      <td>0</td>\n",
              "      <td>1</td>\n",
              "      <td>0</td>\n",
              "      <td>0</td>\n",
              "      <td>0</td>\n",
              "      <td>...</td>\n",
              "      <td>0</td>\n",
              "      <td>0</td>\n",
              "      <td>0</td>\n",
              "      <td>1</td>\n",
              "      <td>0</td>\n",
              "      <td>0</td>\n",
              "      <td>0</td>\n",
              "      <td>0</td>\n",
              "      <td>4.5</td>\n",
              "      <td>5</td>\n",
              "    </tr>\n",
              "    <tr>\n",
              "      <th>...</th>\n",
              "      <td>...</td>\n",
              "      <td>...</td>\n",
              "      <td>...</td>\n",
              "      <td>...</td>\n",
              "      <td>...</td>\n",
              "      <td>...</td>\n",
              "      <td>...</td>\n",
              "      <td>...</td>\n",
              "      <td>...</td>\n",
              "      <td>...</td>\n",
              "      <td>...</td>\n",
              "      <td>...</td>\n",
              "      <td>...</td>\n",
              "      <td>...</td>\n",
              "      <td>...</td>\n",
              "      <td>...</td>\n",
              "      <td>...</td>\n",
              "      <td>...</td>\n",
              "      <td>...</td>\n",
              "      <td>...</td>\n",
              "      <td>...</td>\n",
              "    </tr>\n",
              "    <tr>\n",
              "      <th>811077</th>\n",
              "      <td>5</td>\n",
              "      <td>298.0</td>\n",
              "      <td>1</td>\n",
              "      <td>2</td>\n",
              "      <td>1</td>\n",
              "      <td>1</td>\n",
              "      <td>1</td>\n",
              "      <td>0</td>\n",
              "      <td>0</td>\n",
              "      <td>0</td>\n",
              "      <td>...</td>\n",
              "      <td>0</td>\n",
              "      <td>0</td>\n",
              "      <td>0</td>\n",
              "      <td>1</td>\n",
              "      <td>0</td>\n",
              "      <td>0</td>\n",
              "      <td>0</td>\n",
              "      <td>0</td>\n",
              "      <td>4.5</td>\n",
              "      <td>5</td>\n",
              "    </tr>\n",
              "    <tr>\n",
              "      <th>811078</th>\n",
              "      <td>5</td>\n",
              "      <td>298.0</td>\n",
              "      <td>1</td>\n",
              "      <td>2</td>\n",
              "      <td>1</td>\n",
              "      <td>1</td>\n",
              "      <td>1</td>\n",
              "      <td>0</td>\n",
              "      <td>0</td>\n",
              "      <td>0</td>\n",
              "      <td>...</td>\n",
              "      <td>0</td>\n",
              "      <td>0</td>\n",
              "      <td>0</td>\n",
              "      <td>1</td>\n",
              "      <td>0</td>\n",
              "      <td>5</td>\n",
              "      <td>0</td>\n",
              "      <td>2</td>\n",
              "      <td>4.5</td>\n",
              "      <td>5</td>\n",
              "    </tr>\n",
              "    <tr>\n",
              "      <th>811079</th>\n",
              "      <td>5</td>\n",
              "      <td>298.0</td>\n",
              "      <td>1</td>\n",
              "      <td>2</td>\n",
              "      <td>1</td>\n",
              "      <td>1</td>\n",
              "      <td>1</td>\n",
              "      <td>0</td>\n",
              "      <td>0</td>\n",
              "      <td>0</td>\n",
              "      <td>...</td>\n",
              "      <td>0</td>\n",
              "      <td>0</td>\n",
              "      <td>0</td>\n",
              "      <td>1</td>\n",
              "      <td>0</td>\n",
              "      <td>0</td>\n",
              "      <td>0</td>\n",
              "      <td>0</td>\n",
              "      <td>4.5</td>\n",
              "      <td>5</td>\n",
              "    </tr>\n",
              "    <tr>\n",
              "      <th>811080</th>\n",
              "      <td>5</td>\n",
              "      <td>298.0</td>\n",
              "      <td>1</td>\n",
              "      <td>2</td>\n",
              "      <td>1</td>\n",
              "      <td>1</td>\n",
              "      <td>1</td>\n",
              "      <td>0</td>\n",
              "      <td>0</td>\n",
              "      <td>0</td>\n",
              "      <td>...</td>\n",
              "      <td>0</td>\n",
              "      <td>0</td>\n",
              "      <td>0</td>\n",
              "      <td>1</td>\n",
              "      <td>0</td>\n",
              "      <td>1</td>\n",
              "      <td>0</td>\n",
              "      <td>0</td>\n",
              "      <td>4.5</td>\n",
              "      <td>5</td>\n",
              "    </tr>\n",
              "    <tr>\n",
              "      <th>811081</th>\n",
              "      <td>5</td>\n",
              "      <td>298.0</td>\n",
              "      <td>1</td>\n",
              "      <td>2</td>\n",
              "      <td>1</td>\n",
              "      <td>1</td>\n",
              "      <td>1</td>\n",
              "      <td>0</td>\n",
              "      <td>0</td>\n",
              "      <td>0</td>\n",
              "      <td>...</td>\n",
              "      <td>0</td>\n",
              "      <td>0</td>\n",
              "      <td>0</td>\n",
              "      <td>1</td>\n",
              "      <td>0</td>\n",
              "      <td>0</td>\n",
              "      <td>0</td>\n",
              "      <td>0</td>\n",
              "      <td>4.5</td>\n",
              "      <td>5</td>\n",
              "    </tr>\n",
              "  </tbody>\n",
              "</table>\n",
              "<p>811082 rows × 24 columns</p>\n",
              "</div>"
            ],
            "text/plain": [
              "        state  review_count  is_open  BusinessAcceptsCreditCards  \\\n",
              "0          14          13.0        1                           2   \n",
              "1          14          13.0        1                           2   \n",
              "2          14          13.0        1                           2   \n",
              "3          14          13.0        1                           2   \n",
              "4          14          13.0        1                           2   \n",
              "...       ...           ...      ...                         ...   \n",
              "811077      5         298.0        1                           2   \n",
              "811078      5         298.0        1                           2   \n",
              "811079      5         298.0        1                           2   \n",
              "811080      5         298.0        1                           2   \n",
              "811081      5         298.0        1                           2   \n",
              "\n",
              "        RestaurantsPriceRange2  Restaurants  Food  Shopping  Home Services  \\\n",
              "0                            5            0     1         0              0   \n",
              "1                            5            0     1         0              0   \n",
              "2                            5            0     1         0              0   \n",
              "3                            5            0     1         0              0   \n",
              "4                            5            0     1         0              0   \n",
              "...                        ...          ...   ...       ...            ...   \n",
              "811077                       1            1     1         0              0   \n",
              "811078                       1            1     1         0              0   \n",
              "811079                       1            1     1         0              0   \n",
              "811080                       1            1     1         0              0   \n",
              "811081                       1            1     1         0              0   \n",
              "\n",
              "        Beauty & Spas  ...  Automotive  garage  street  lot  valet  useful  \\\n",
              "0                   0  ...           0       0       0    1      0       0   \n",
              "1                   0  ...           0       0       0    1      0       0   \n",
              "2                   0  ...           0       0       0    1      0       0   \n",
              "3                   0  ...           0       0       0    1      0       0   \n",
              "4                   0  ...           0       0       0    1      0       0   \n",
              "...               ...  ...         ...     ...     ...  ...    ...     ...   \n",
              "811077              0  ...           0       0       0    1      0       0   \n",
              "811078              0  ...           0       0       0    1      0       5   \n",
              "811079              0  ...           0       0       0    1      0       0   \n",
              "811080              0  ...           0       0       0    1      0       1   \n",
              "811081              0  ...           0       0       0    1      0       0   \n",
              "\n",
              "        funny  cool  business_stars  review_stars  \n",
              "0           0     0             4.5             4  \n",
              "1           0     0             4.5             5  \n",
              "2           0     0             4.5             5  \n",
              "3           0     0             4.5             5  \n",
              "4           0     0             4.5             5  \n",
              "...       ...   ...             ...           ...  \n",
              "811077      0     0             4.5             5  \n",
              "811078      0     2             4.5             5  \n",
              "811079      0     0             4.5             5  \n",
              "811080      0     0             4.5             5  \n",
              "811081      0     0             4.5             5  \n",
              "\n",
              "[811082 rows x 24 columns]"
            ]
          },
          "execution_count": 205,
          "metadata": {},
          "output_type": "execute_result"
        }
      ],
      "source": [
        "X"
      ]
    },
    {
      "cell_type": "code",
      "execution_count": 206,
      "metadata": {},
      "outputs": [
        {
          "name": "stdout",
          "output_type": "stream",
          "text": [
            "X_train shape: (648865, 24), y_train shape: (648865,)\n",
            "X_test shape: (162217, 24), y_test shape: (162217,)\n"
          ]
        }
      ],
      "source": [
        "# Split the data into training and test sets (80% train, 20% test)\n",
        "X_train, X_test, y_train, y_test = train_test_split(X, y, test_size=0.2, random_state=42, stratify=y)\n",
        "\n",
        "# Check the shape of the datasets\n",
        "print(f\"X_train shape: {X_train.shape}, y_train shape: {y_train.shape}\")\n",
        "print(f\"X_test shape: {X_test.shape}, y_test shape: {y_test.shape}\")\n"
      ]
    },
    {
      "cell_type": "code",
      "execution_count": 208,
      "metadata": {},
      "outputs": [
        {
          "name": "stdout",
          "output_type": "stream",
          "text": [
            "[False True]\n",
            "object\n"
          ]
        }
      ],
      "source": [
        "# Check the unique values and data type of y_train\n",
        "print(y_train.unique())\n",
        "print(y_train.dtype)\n"
      ]
    },
    {
      "cell_type": "code",
      "execution_count": 210,
      "metadata": {},
      "outputs": [
        {
          "name": "stdout",
          "output_type": "stream",
          "text": [
            "[0 1]\n"
          ]
        }
      ],
      "source": [
        "# Ensure the target is binary (convert True/False or other to 0/1)\n",
        "y_train = y_train.astype(int)\n",
        "y_test = y_test.astype(int)\n",
        "\n",
        "# Verify the change\n",
        "print(y_train.unique())\n"
      ]
    },
    {
      "cell_type": "code",
      "execution_count": 217,
      "metadata": {},
      "outputs": [
        {
          "data": {
            "text/plain": [
              "validated\n",
              "0    642800\n",
              "1      6065\n",
              "Name: count, dtype: int64"
            ]
          },
          "execution_count": 217,
          "metadata": {},
          "output_type": "execute_result"
        }
      ],
      "source": [
        "y_train.value_counts()"
      ]
    },
    {
      "cell_type": "code",
      "execution_count": 211,
      "metadata": {},
      "outputs": [
        {
          "name": "stdout",
          "output_type": "stream",
          "text": [
            "Class distribution after SMOTE: Counter({0: 642800, 1: 642800})\n"
          ]
        }
      ],
      "source": [
        "from imblearn.over_sampling import SMOTE\n",
        "\n",
        "# Apply SMOTE to balance the classes in the training set\n",
        "smote = SMOTE(random_state=42)\n",
        "X_train_resampled, y_train_resampled = smote.fit_resample(X_train, y_train)\n",
        "\n",
        "# Check class distribution after SMOTE\n",
        "from collections import Counter\n",
        "print(\"Class distribution after SMOTE:\", Counter(y_train_resampled))\n"
      ]
    },
    {
      "cell_type": "code",
      "execution_count": 222,
      "metadata": {},
      "outputs": [
        {
          "name": "stdout",
          "output_type": "stream",
          "text": [
            "Requirement already satisfied: xgboost in /opt/anaconda3/envs/DL3/lib/python3.9/site-packages (2.1.1)\n",
            "Requirement already satisfied: numpy in /opt/anaconda3/envs/DL3/lib/python3.9/site-packages (from xgboost) (1.26.4)\n",
            "Requirement already satisfied: scipy in /opt/anaconda3/envs/DL3/lib/python3.9/site-packages (from xgboost) (1.13.1)\n",
            "Note: you may need to restart the kernel to use updated packages.\n"
          ]
        }
      ],
      "source": [
        "pip install xgboost"
      ]
    },
    {
      "cell_type": "code",
      "execution_count": 226,
      "metadata": {},
      "outputs": [
        {
          "name": "stdout",
          "output_type": "stream",
          "text": [
            "Training Accuracy: 0.9999922215308027\n",
            "Test Accuracy: 0.9999506833439159\n",
            "\n",
            "Classification Report for Test Set:\n",
            "               precision    recall  f1-score   support\n",
            "\n",
            "           0       1.00      1.00      1.00    160701\n",
            "           1       1.00      1.00      1.00      1516\n",
            "\n",
            "    accuracy                           1.00    162217\n",
            "   macro avg       1.00      1.00      1.00    162217\n",
            "weighted avg       1.00      1.00      1.00    162217\n",
            "\n"
          ]
        }
      ],
      "source": [
        "from xgboost import XGBClassifier\n",
        "from sklearn.metrics import accuracy_score, classification_report\n",
        "\n",
        "# Initialize the XGBoost model\n",
        "xgb_model = XGBClassifier(n_estimators=200, random_state=42, learning_rate=1.0, max_depth=6)\n",
        "\n",
        "# Train the model on the resampled training set\n",
        "xgb_model.fit(X_train_resampled, y_train_resampled)\n",
        "\n",
        "# Make predictions on training and test sets\n",
        "y_pred_train = xgb_model.predict(X_train_resampled)\n",
        "y_pred_test = xgb_model.predict(X_test)\n",
        "\n",
        "# Calculate accuracy for both train and test sets\n",
        "train_accuracy = accuracy_score(y_train_resampled, y_pred_train)\n",
        "test_accuracy = accuracy_score(y_test, y_pred_test)\n",
        "\n",
        "# Print the results\n",
        "print(\"Training Accuracy:\", train_accuracy)\n",
        "print(\"Test Accuracy:\", test_accuracy)\n",
        "\n",
        "# Classification report for test set\n",
        "print(\"\\nClassification Report for Test Set:\\n\", classification_report(y_test, y_pred_test))\n",
        "\n"
      ]
    },
    {
      "cell_type": "code",
      "execution_count": 227,
      "metadata": {},
      "outputs": [
        {
          "data": {
            "image/png": "[encoded data removed]",
            "text/plain": [
              "<Figure size 640x480 with 2 Axes>"
            ]
          },
          "metadata": {},
          "output_type": "display_data"
        }
      ],
      "source": [
        "from sklearn.metrics import confusion_matrix, ConfusionMatrixDisplay\n",
        "\n",
        "cm = confusion_matrix(y_test, y_pred_test)\n",
        "\n",
        "# Plot confusion matrix\n",
        "disp = ConfusionMatrixDisplay(confusion_matrix=cm, display_labels=[0, 1])\n",
        "disp.plot(cmap=plt.cm.Blues)\n",
        "plt.title('Confusion Matrix')\n",
        "plt.show()"
      ]
    },
    {
      "cell_type": "code",
      "execution_count": 228,
      "metadata": {},
      "outputs": [
        {
          "data": {
            "image/png": "[encoded data removed]",
            "text/plain": [
              "<Figure size 800x600 with 1 Axes>"
            ]
          },
          "metadata": {},
          "output_type": "display_data"
        }
      ],
      "source": [
        "y_proba = xgb_model.predict_proba(X_test)[:, 1]  # Probability for class 1\n",
        "fpr, tpr, _ = roc_curve(y_test, y_proba)\n",
        "roc_auc = auc(fpr, tpr)\n",
        "\n",
        "plt.figure(figsize=(8, 6))\n",
        "plt.plot(fpr, tpr, color='blue', lw=2, label=f'ROC Curve (AUC = {roc_auc:.2f})')\n",
        "plt.plot([0, 1], [0, 1], color='gray', linestyle='--')  # Diagonal line\n",
        "plt.xlim([0.0, 1.0])\n",
        "plt.ylim([0.0, 1.05])\n",
        "plt.xlabel('False Positive Rate')\n",
        "plt.ylabel('True Positive Rate')\n",
        "plt.title('ROC Curve')\n",
        "plt.legend(loc='lower right')\n",
        "plt.grid()\n",
        "plt.show()"
      ]
    },
    {
      "cell_type": "code",
      "execution_count": 231,
      "metadata": {},
      "outputs": [
        {
          "data": {
            "image/png": "[encoded data removed]",
            "text/plain": [
              "<Figure size 800x950 with 2 Axes>"
            ]
          },
          "metadata": {},
          "output_type": "display_data"
        }
      ],
      "source": [
        "import shap\n",
        "\n",
        "# Initialize SHAP explainer\n",
        "explainer = shap.Explainer(xgb_model)\n",
        "shap_values = explainer(X_test)\n",
        "\n",
        "# Plot SHAP summary\n",
        "shap.summary_plot(shap_values, X_test)\n"
      ]
    },
    {
      "cell_type": "code",
      "execution_count": null,
      "metadata": {},
      "outputs": [],
      "source": []
    },
    {
      "cell_type": "code",
      "execution_count": null,
      "metadata": {},
      "outputs": [],
      "source": []
    },
    {
      "cell_type": "code",
      "execution_count": null,
      "metadata": {},
      "outputs": [],
      "source": []
    },
    {
      "cell_type": "code",
      "execution_count": null,
      "metadata": {},
      "outputs": [],
      "source": []
    },
    {
      "cell_type": "code",
      "execution_count": null,
      "metadata": {},
      "outputs": [],
      "source": []
    },
    {
      "cell_type": "code",
      "execution_count": null,
      "metadata": {},
      "outputs": [],
      "source": []
    },
    {
      "cell_type": "code",
      "execution_count": null,
      "metadata": {},
      "outputs": [],
      "source": []
    },
    {
      "cell_type": "code",
      "execution_count": null,
      "metadata": {},
      "outputs": [],
      "source": []
    },
    {
      "cell_type": "code",
      "execution_count": null,
      "metadata": {},
      "outputs": [],
      "source": []
    },
    {
      "cell_type": "code",
      "execution_count": null,
      "metadata": {},
      "outputs": [],
      "source": []
    },
    {
      "cell_type": "code",
      "execution_count": null,
      "metadata": {},
      "outputs": [],
      "source": []
    },
    {
      "cell_type": "code",
      "execution_count": null,
      "metadata": {},
      "outputs": [],
      "source": []
    },
    {
      "cell_type": "markdown",
      "metadata": {},
      "source": [
        "## Train Test Split"
      ]
    },
    {
      "cell_type": "code",
      "execution_count": 166,
      "metadata": {},
      "outputs": [],
      "source": [
        "X_train, X_test, y_train, y_test = train_test_split(X, y, test_size=0.2, random_state=42, stratify=y)"
      ]
    },
    {
      "cell_type": "code",
      "execution_count": 167,
      "metadata": {},
      "outputs": [
        {
          "name": "stdout",
          "output_type": "stream",
          "text": [
            "(648865, 24)\n",
            "(162217, 24)\n",
            "(648865,)\n",
            "(162217,)\n"
          ]
        }
      ],
      "source": [
        "print(X_train.shape)\n",
        "print(X_test.shape)\n",
        "print(y_train.shape)\n",
        "print(y_test.shape)\n"
      ]
    },
    {
      "cell_type": "code",
      "execution_count": 168,
      "metadata": {},
      "outputs": [
        {
          "name": "stdout",
          "output_type": "stream",
          "text": [
            "<class 'pandas.core.frame.DataFrame'>\n",
            "Index: 648865 entries, 777898 to 327010\n",
            "Data columns (total 24 columns):\n",
            " #   Column                      Non-Null Count   Dtype  \n",
            "---  ------                      --------------   -----  \n",
            " 0   state                       648865 non-null  object \n",
            " 1   review_count                648865 non-null  float64\n",
            " 2   is_open                     648865 non-null  float64\n",
            " 3   BusinessAcceptsCreditCards  648865 non-null  float64\n",
            " 4   RestaurantsPriceRange2      648865 non-null  object \n",
            " 5   Restaurants                 648865 non-null  float64\n",
            " 6   Food                        648865 non-null  float64\n",
            " 7   Shopping                    648865 non-null  float64\n",
            " 8   Home Services               648865 non-null  float64\n",
            " 9   Beauty & Spas               648865 non-null  float64\n",
            " 10  Nightlife                   648865 non-null  float64\n",
            " 11  Health & Medical            648865 non-null  float64\n",
            " 12  Local Services              648865 non-null  float64\n",
            " 13  Bars                        648865 non-null  float64\n",
            " 14  Automotive                  648865 non-null  float64\n",
            " 15  garage                      642110 non-null  object \n",
            " 16  street                      631943 non-null  object \n",
            " 17  lot                         632689 non-null  object \n",
            " 18  valet                       648865 non-null  object \n",
            " 19  useful                      648865 non-null  int64  \n",
            " 20  funny                       648865 non-null  int64  \n",
            " 21  cool                        648865 non-null  int64  \n",
            " 22  business_stars              648865 non-null  float64\n",
            " 23  review_stars                648865 non-null  int64  \n",
            "dtypes: float64(14), int64(4), object(6)\n",
            "memory usage: 123.8+ MB\n"
          ]
        }
      ],
      "source": [
        "X_train.info()"
      ]
    },
    {
      "cell_type": "code",
      "execution_count": 172,
      "metadata": {},
      "outputs": [],
      "source": [
        "from sklearn.preprocessing import LabelEncoder\n",
        "\n",
        "# Example for 'state' column using LabelEncoder\n",
        "label_encoder = LabelEncoder()\n",
        "X['state'] = label_encoder.fit_transform(X['state'])\n"
      ]
    },
    {
      "cell_type": "code",
      "execution_count": null,
      "metadata": {},
      "outputs": [],
      "source": []
    },
    {
      "cell_type": "code",
      "execution_count": null,
      "metadata": {},
      "outputs": [],
      "source": []
    },
    {
      "cell_type": "code",
      "execution_count": null,
      "metadata": {},
      "outputs": [],
      "source": []
    },
    {
      "cell_type": "code",
      "execution_count": null,
      "metadata": {},
      "outputs": [],
      "source": []
    },
    {
      "cell_type": "code",
      "execution_count": null,
      "metadata": {},
      "outputs": [],
      "source": []
    },
    {
      "cell_type": "code",
      "execution_count": null,
      "metadata": {},
      "outputs": [],
      "source": []
    },
    {
      "cell_type": "code",
      "execution_count": null,
      "metadata": {},
      "outputs": [],
      "source": []
    },
    {
      "cell_type": "code",
      "execution_count": 169,
      "metadata": {},
      "outputs": [
        {
          "ename": "SyntaxError",
          "evalue": "invalid syntax (4081624124.py, line 1)",
          "output_type": "error",
          "traceback": [
            "\u001b[0;36m  Cell \u001b[0;32mIn[169], line 1\u001b[0;36m\u001b[0m\n\u001b[0;31m    ||||\u001b[0m\n\u001b[0m    ^\u001b[0m\n\u001b[0;31mSyntaxError\u001b[0m\u001b[0;31m:\u001b[0m invalid syntax\n"
          ]
        }
      ],
      "source": [
        "||||"
      ]
    },
    {
      "cell_type": "code",
      "execution_count": null,
      "metadata": {},
      "outputs": [],
      "source": []
    },
    {
      "cell_type": "code",
      "execution_count": null,
      "metadata": {},
      "outputs": [],
      "source": []
    },
    {
      "cell_type": "code",
      "execution_count": null,
      "metadata": {},
      "outputs": [],
      "source": []
    },
    {
      "cell_type": "code",
      "execution_count": null,
      "metadata": {},
      "outputs": [],
      "source": []
    },
    {
      "cell_type": "code",
      "execution_count": 71,
      "metadata": {},
      "outputs": [
        {
          "data": {
            "text/plain": [
              "validated\n",
              "False    642800\n",
              "True       6065\n",
              "Name: count, dtype: int64"
            ]
          },
          "execution_count": 71,
          "metadata": {},
          "output_type": "execute_result"
        }
      ],
      "source": [
        "# y_train.value_counts()"
      ]
    },
    {
      "cell_type": "code",
      "execution_count": 72,
      "metadata": {},
      "outputs": [],
      "source": [
        "y_train = y_train.astype(int)\n",
        "y_test = y_test.astype(int)"
      ]
    },
    {
      "cell_type": "code",
      "execution_count": 73,
      "metadata": {},
      "outputs": [],
      "source": [
        "df = pd.concat([X_train, y_train.rename('validated')], axis=1)\n",
        "\n",
        "# Separate the majority and minority classes\n",
        "df_majority = df[df['validated'] == 1]\n",
        "df_minority = df[df['validated'] == 0]\n",
        "\n",
        "##This combines the feature matrix X_train and the target variable y_train into a single DataFrame df. The target variable y_train is renamed to validated for clarity."
      ]
    },
    {
      "cell_type": "code",
      "execution_count": 74,
      "metadata": {},
      "outputs": [
        {
          "name": "stdout",
          "output_type": "stream",
          "text": [
            "(6065, 25) (642800, 25)\n"
          ]
        }
      ],
      "source": [
        "print(df_majority.shape, df_minority.shape)"
      ]
    },
    {
      "cell_type": "code",
      "execution_count": 75,
      "metadata": {},
      "outputs": [],
      "source": [
        "# Check if downsampling is needed\n",
        "if len(df_majority) > len(df_minority):\n",
        "    # Downsample the majority class\n",
        "    df_majority_downsampled = df_majority.sample(len(df_minority), random_state=42)\n",
        "else:\n",
        "    # If majority class is not larger, keep it as it is (no downsampling needed)\n",
        "    df_majority_downsampled = df_majority\n",
        "\n",
        "# Combine the downsampled (or unchanged) majority class with the minority class\n",
        "df_downsampled = pd.concat([df_majority_downsampled, df_minority])\n",
        "\n",
        "# Shuffle the resulting dataset\n",
        "df_downsampled = df_downsampled.sample(frac=1, random_state=42).reset_index(drop=True)\n",
        "\n",
        "# Separate X_train and y_train after downsampling\n",
        "X_train = df_downsampled.drop('validated', axis=1)\n",
        "y_train = df_downsampled['validated']\n"
      ]
    },
    {
      "cell_type": "code",
      "execution_count": 76,
      "metadata": {},
      "outputs": [
        {
          "data": {
            "text/plain": [
              "validated\n",
              "0    642800\n",
              "1      6065\n",
              "Name: count, dtype: int64"
            ]
          },
          "execution_count": 76,
          "metadata": {},
          "output_type": "execute_result"
        }
      ],
      "source": [
        "y_train.value_counts()"
      ]
    },
    {
      "cell_type": "code",
      "execution_count": 77,
      "metadata": {},
      "outputs": [
        {
          "data": {
            "text/plain": [
              "validated\n",
              "0    160701\n",
              "1      1516\n",
              "Name: count, dtype: int64"
            ]
          },
          "execution_count": 77,
          "metadata": {},
          "output_type": "execute_result"
        }
      ],
      "source": [
        "y_test.value_counts()"
      ]
    },
    {
      "cell_type": "code",
      "execution_count": 78,
      "metadata": {},
      "outputs": [
        {
          "name": "stdout",
          "output_type": "stream",
          "text": [
            "(648865, 24)\n",
            "(648865,)\n",
            "(162217, 24)\n",
            "(162217,)\n"
          ]
        }
      ],
      "source": [
        "print(X_train.shape)\n",
        "print(y_train.shape)\n",
        "print(X_test.shape)\n",
        "print(y_test.shape)"
      ]
    },
    {
      "cell_type": "code",
      "execution_count": 79,
      "metadata": {},
      "outputs": [
        {
          "name": "stdout",
          "output_type": "stream",
          "text": [
            "<class 'pandas.core.frame.DataFrame'>\n",
            "RangeIndex: 648865 entries, 0 to 648864\n",
            "Data columns (total 24 columns):\n",
            " #   Column                      Non-Null Count   Dtype  \n",
            "---  ------                      --------------   -----  \n",
            " 0   state                       648865 non-null  object \n",
            " 1   review_count                648865 non-null  float64\n",
            " 2   is_open                     648865 non-null  float64\n",
            " 3   BusinessAcceptsCreditCards  648865 non-null  float64\n",
            " 4   RestaurantsPriceRange2      648865 non-null  object \n",
            " 5   Restaurants                 648865 non-null  float64\n",
            " 6   Food                        648865 non-null  float64\n",
            " 7   Shopping                    648865 non-null  float64\n",
            " 8   Home Services               648865 non-null  float64\n",
            " 9   Beauty & Spas               648865 non-null  float64\n",
            " 10  Nightlife                   648865 non-null  float64\n",
            " 11  Health & Medical            648865 non-null  float64\n",
            " 12  Local Services              648865 non-null  float64\n",
            " 13  Bars                        648865 non-null  float64\n",
            " 14  Automotive                  648865 non-null  float64\n",
            " 15  garage                      642110 non-null  object \n",
            " 16  street                      631943 non-null  object \n",
            " 17  lot                         632689 non-null  object \n",
            " 18  valet                       648865 non-null  object \n",
            " 19  useful                      648865 non-null  int64  \n",
            " 20  funny                       648865 non-null  int64  \n",
            " 21  cool                        648865 non-null  int64  \n",
            " 22  business_stars              648865 non-null  float64\n",
            " 23  review_stars                648865 non-null  int64  \n",
            "dtypes: float64(14), int64(4), object(6)\n",
            "memory usage: 118.8+ MB\n"
          ]
        }
      ],
      "source": [
        "X_train.info()"
      ]
    },
    {
      "cell_type": "markdown",
      "metadata": {},
      "source": [
        "some columns that should be int64 or object are in float64 format. This happens when there are missing values (or non-integer values) in the dataset, as Pandas automatically assigns a float64 type to columns with NaNs."
      ]
    },
    {
      "cell_type": "code",
      "execution_count": 80,
      "metadata": {},
      "outputs": [
        {
          "data": {
            "text/html": [
              "<div>\n",
              "<style scoped>\n",
              "    .dataframe tbody tr th:only-of-type {\n",
              "        vertical-align: middle;\n",
              "    }\n",
              "\n",
              "    .dataframe tbody tr th {\n",
              "        vertical-align: top;\n",
              "    }\n",
              "\n",
              "    .dataframe thead th {\n",
              "        text-align: right;\n",
              "    }\n",
              "</style>\n",
              "<table border=\"1\" class=\"dataframe\">\n",
              "  <thead>\n",
              "    <tr style=\"text-align: right;\">\n",
              "      <th></th>\n",
              "      <th>state</th>\n",
              "      <th>review_count</th>\n",
              "      <th>is_open</th>\n",
              "      <th>BusinessAcceptsCreditCards</th>\n",
              "      <th>RestaurantsPriceRange2</th>\n",
              "      <th>Restaurants</th>\n",
              "      <th>Food</th>\n",
              "      <th>Shopping</th>\n",
              "      <th>Home Services</th>\n",
              "      <th>Beauty &amp; Spas</th>\n",
              "      <th>...</th>\n",
              "      <th>Automotive</th>\n",
              "      <th>garage</th>\n",
              "      <th>street</th>\n",
              "      <th>lot</th>\n",
              "      <th>valet</th>\n",
              "      <th>useful</th>\n",
              "      <th>funny</th>\n",
              "      <th>cool</th>\n",
              "      <th>business_stars</th>\n",
              "      <th>review_stars</th>\n",
              "    </tr>\n",
              "  </thead>\n",
              "  <tbody>\n",
              "    <tr>\n",
              "      <th>0</th>\n",
              "      <td>IN</td>\n",
              "      <td>18.0</td>\n",
              "      <td>0.0</td>\n",
              "      <td>2.0</td>\n",
              "      <td>2</td>\n",
              "      <td>1.0</td>\n",
              "      <td>0.0</td>\n",
              "      <td>0.0</td>\n",
              "      <td>0.0</td>\n",
              "      <td>0.0</td>\n",
              "      <td>...</td>\n",
              "      <td>0.0</td>\n",
              "      <td>False</td>\n",
              "      <td>False</td>\n",
              "      <td>True</td>\n",
              "      <td>False</td>\n",
              "      <td>1</td>\n",
              "      <td>0</td>\n",
              "      <td>0</td>\n",
              "      <td>2.5</td>\n",
              "      <td>4</td>\n",
              "    </tr>\n",
              "    <tr>\n",
              "      <th>1</th>\n",
              "      <td>FL</td>\n",
              "      <td>47.0</td>\n",
              "      <td>1.0</td>\n",
              "      <td>2.0</td>\n",
              "      <td>1</td>\n",
              "      <td>1.0</td>\n",
              "      <td>0.0</td>\n",
              "      <td>0.0</td>\n",
              "      <td>0.0</td>\n",
              "      <td>0.0</td>\n",
              "      <td>...</td>\n",
              "      <td>0.0</td>\n",
              "      <td>False</td>\n",
              "      <td>True</td>\n",
              "      <td>False</td>\n",
              "      <td>False</td>\n",
              "      <td>0</td>\n",
              "      <td>0</td>\n",
              "      <td>0</td>\n",
              "      <td>3.5</td>\n",
              "      <td>1</td>\n",
              "    </tr>\n",
              "    <tr>\n",
              "      <th>2</th>\n",
              "      <td>FL</td>\n",
              "      <td>87.0</td>\n",
              "      <td>1.0</td>\n",
              "      <td>2.0</td>\n",
              "      <td>1</td>\n",
              "      <td>1.0</td>\n",
              "      <td>1.0</td>\n",
              "      <td>0.0</td>\n",
              "      <td>0.0</td>\n",
              "      <td>0.0</td>\n",
              "      <td>...</td>\n",
              "      <td>0.0</td>\n",
              "      <td>False</td>\n",
              "      <td>False</td>\n",
              "      <td>True</td>\n",
              "      <td>False</td>\n",
              "      <td>2</td>\n",
              "      <td>1</td>\n",
              "      <td>3</td>\n",
              "      <td>3.5</td>\n",
              "      <td>4</td>\n",
              "    </tr>\n",
              "    <tr>\n",
              "      <th>3</th>\n",
              "      <td>FL</td>\n",
              "      <td>103.0</td>\n",
              "      <td>0.0</td>\n",
              "      <td>2.0</td>\n",
              "      <td>2</td>\n",
              "      <td>1.0</td>\n",
              "      <td>1.0</td>\n",
              "      <td>0.0</td>\n",
              "      <td>0.0</td>\n",
              "      <td>0.0</td>\n",
              "      <td>...</td>\n",
              "      <td>0.0</td>\n",
              "      <td>False</td>\n",
              "      <td>True</td>\n",
              "      <td>True</td>\n",
              "      <td>False</td>\n",
              "      <td>0</td>\n",
              "      <td>0</td>\n",
              "      <td>0</td>\n",
              "      <td>3.5</td>\n",
              "      <td>5</td>\n",
              "    </tr>\n",
              "    <tr>\n",
              "      <th>4</th>\n",
              "      <td>PA</td>\n",
              "      <td>40.0</td>\n",
              "      <td>1.0</td>\n",
              "      <td>3.0</td>\n",
              "      <td>Unknown</td>\n",
              "      <td>0.0</td>\n",
              "      <td>0.0</td>\n",
              "      <td>0.0</td>\n",
              "      <td>0.0</td>\n",
              "      <td>0.0</td>\n",
              "      <td>...</td>\n",
              "      <td>0.0</td>\n",
              "      <td>False</td>\n",
              "      <td>False</td>\n",
              "      <td>False</td>\n",
              "      <td>False</td>\n",
              "      <td>3</td>\n",
              "      <td>3</td>\n",
              "      <td>0</td>\n",
              "      <td>4.0</td>\n",
              "      <td>4</td>\n",
              "    </tr>\n",
              "    <tr>\n",
              "      <th>...</th>\n",
              "      <td>...</td>\n",
              "      <td>...</td>\n",
              "      <td>...</td>\n",
              "      <td>...</td>\n",
              "      <td>...</td>\n",
              "      <td>...</td>\n",
              "      <td>...</td>\n",
              "      <td>...</td>\n",
              "      <td>...</td>\n",
              "      <td>...</td>\n",
              "      <td>...</td>\n",
              "      <td>...</td>\n",
              "      <td>...</td>\n",
              "      <td>...</td>\n",
              "      <td>...</td>\n",
              "      <td>...</td>\n",
              "      <td>...</td>\n",
              "      <td>...</td>\n",
              "      <td>...</td>\n",
              "      <td>...</td>\n",
              "      <td>...</td>\n",
              "    </tr>\n",
              "    <tr>\n",
              "      <th>648860</th>\n",
              "      <td>PA</td>\n",
              "      <td>2761.0</td>\n",
              "      <td>1.0</td>\n",
              "      <td>2.0</td>\n",
              "      <td>3</td>\n",
              "      <td>1.0</td>\n",
              "      <td>0.0</td>\n",
              "      <td>0.0</td>\n",
              "      <td>0.0</td>\n",
              "      <td>0.0</td>\n",
              "      <td>...</td>\n",
              "      <td>0.0</td>\n",
              "      <td>False</td>\n",
              "      <td>False</td>\n",
              "      <td>True</td>\n",
              "      <td>False</td>\n",
              "      <td>0</td>\n",
              "      <td>0</td>\n",
              "      <td>0</td>\n",
              "      <td>4.0</td>\n",
              "      <td>3</td>\n",
              "    </tr>\n",
              "    <tr>\n",
              "      <th>648861</th>\n",
              "      <td>PA</td>\n",
              "      <td>206.0</td>\n",
              "      <td>0.0</td>\n",
              "      <td>2.0</td>\n",
              "      <td>1</td>\n",
              "      <td>1.0</td>\n",
              "      <td>0.0</td>\n",
              "      <td>0.0</td>\n",
              "      <td>0.0</td>\n",
              "      <td>0.0</td>\n",
              "      <td>...</td>\n",
              "      <td>0.0</td>\n",
              "      <td>False</td>\n",
              "      <td>False</td>\n",
              "      <td>True</td>\n",
              "      <td>False</td>\n",
              "      <td>0</td>\n",
              "      <td>0</td>\n",
              "      <td>0</td>\n",
              "      <td>4.5</td>\n",
              "      <td>5</td>\n",
              "    </tr>\n",
              "    <tr>\n",
              "      <th>648862</th>\n",
              "      <td>LA</td>\n",
              "      <td>337.0</td>\n",
              "      <td>1.0</td>\n",
              "      <td>2.0</td>\n",
              "      <td>2</td>\n",
              "      <td>1.0</td>\n",
              "      <td>0.0</td>\n",
              "      <td>0.0</td>\n",
              "      <td>0.0</td>\n",
              "      <td>0.0</td>\n",
              "      <td>...</td>\n",
              "      <td>0.0</td>\n",
              "      <td>False</td>\n",
              "      <td>True</td>\n",
              "      <td>False</td>\n",
              "      <td>False</td>\n",
              "      <td>0</td>\n",
              "      <td>0</td>\n",
              "      <td>0</td>\n",
              "      <td>4.0</td>\n",
              "      <td>2</td>\n",
              "    </tr>\n",
              "    <tr>\n",
              "      <th>648863</th>\n",
              "      <td>PA</td>\n",
              "      <td>261.0</td>\n",
              "      <td>0.0</td>\n",
              "      <td>2.0</td>\n",
              "      <td>2</td>\n",
              "      <td>1.0</td>\n",
              "      <td>1.0</td>\n",
              "      <td>0.0</td>\n",
              "      <td>0.0</td>\n",
              "      <td>0.0</td>\n",
              "      <td>...</td>\n",
              "      <td>0.0</td>\n",
              "      <td>False</td>\n",
              "      <td>False</td>\n",
              "      <td>True</td>\n",
              "      <td>False</td>\n",
              "      <td>2</td>\n",
              "      <td>1</td>\n",
              "      <td>2</td>\n",
              "      <td>4.0</td>\n",
              "      <td>4</td>\n",
              "    </tr>\n",
              "    <tr>\n",
              "      <th>648864</th>\n",
              "      <td>PA</td>\n",
              "      <td>29.0</td>\n",
              "      <td>1.0</td>\n",
              "      <td>3.0</td>\n",
              "      <td>Unknown</td>\n",
              "      <td>1.0</td>\n",
              "      <td>0.0</td>\n",
              "      <td>0.0</td>\n",
              "      <td>0.0</td>\n",
              "      <td>0.0</td>\n",
              "      <td>...</td>\n",
              "      <td>0.0</td>\n",
              "      <td>False</td>\n",
              "      <td>True</td>\n",
              "      <td>False</td>\n",
              "      <td>False</td>\n",
              "      <td>0</td>\n",
              "      <td>0</td>\n",
              "      <td>1</td>\n",
              "      <td>5.0</td>\n",
              "      <td>5</td>\n",
              "    </tr>\n",
              "  </tbody>\n",
              "</table>\n",
              "<p>648865 rows × 24 columns</p>\n",
              "</div>"
            ],
            "text/plain": [
              "       state  review_count  is_open  BusinessAcceptsCreditCards  \\\n",
              "0         IN          18.0      0.0                         2.0   \n",
              "1         FL          47.0      1.0                         2.0   \n",
              "2         FL          87.0      1.0                         2.0   \n",
              "3         FL         103.0      0.0                         2.0   \n",
              "4         PA          40.0      1.0                         3.0   \n",
              "...      ...           ...      ...                         ...   \n",
              "648860    PA        2761.0      1.0                         2.0   \n",
              "648861    PA         206.0      0.0                         2.0   \n",
              "648862    LA         337.0      1.0                         2.0   \n",
              "648863    PA         261.0      0.0                         2.0   \n",
              "648864    PA          29.0      1.0                         3.0   \n",
              "\n",
              "       RestaurantsPriceRange2  Restaurants  Food  Shopping  Home Services  \\\n",
              "0                           2          1.0   0.0       0.0            0.0   \n",
              "1                           1          1.0   0.0       0.0            0.0   \n",
              "2                           1          1.0   1.0       0.0            0.0   \n",
              "3                           2          1.0   1.0       0.0            0.0   \n",
              "4                     Unknown          0.0   0.0       0.0            0.0   \n",
              "...                       ...          ...   ...       ...            ...   \n",
              "648860                      3          1.0   0.0       0.0            0.0   \n",
              "648861                      1          1.0   0.0       0.0            0.0   \n",
              "648862                      2          1.0   0.0       0.0            0.0   \n",
              "648863                      2          1.0   1.0       0.0            0.0   \n",
              "648864                Unknown          1.0   0.0       0.0            0.0   \n",
              "\n",
              "        Beauty & Spas  ...  Automotive  garage  street    lot  valet useful  \\\n",
              "0                 0.0  ...         0.0   False   False   True  False      1   \n",
              "1                 0.0  ...         0.0   False    True  False  False      0   \n",
              "2                 0.0  ...         0.0   False   False   True  False      2   \n",
              "3                 0.0  ...         0.0   False    True   True  False      0   \n",
              "4                 0.0  ...         0.0   False   False  False  False      3   \n",
              "...               ...  ...         ...     ...     ...    ...    ...    ...   \n",
              "648860            0.0  ...         0.0   False   False   True  False      0   \n",
              "648861            0.0  ...         0.0   False   False   True  False      0   \n",
              "648862            0.0  ...         0.0   False    True  False  False      0   \n",
              "648863            0.0  ...         0.0   False   False   True  False      2   \n",
              "648864            0.0  ...         0.0   False    True  False  False      0   \n",
              "\n",
              "       funny cool business_stars  review_stars  \n",
              "0          0    0            2.5             4  \n",
              "1          0    0            3.5             1  \n",
              "2          1    3            3.5             4  \n",
              "3          0    0            3.5             5  \n",
              "4          3    0            4.0             4  \n",
              "...      ...  ...            ...           ...  \n",
              "648860     0    0            4.0             3  \n",
              "648861     0    0            4.5             5  \n",
              "648862     0    0            4.0             2  \n",
              "648863     1    2            4.0             4  \n",
              "648864     0    1            5.0             5  \n",
              "\n",
              "[648865 rows x 24 columns]"
            ]
          },
          "execution_count": 80,
          "metadata": {},
          "output_type": "execute_result"
        }
      ],
      "source": [
        "X_train"
      ]
    },
    {
      "cell_type": "code",
      "execution_count": 81,
      "metadata": {},
      "outputs": [
        {
          "name": "stdout",
          "output_type": "stream",
          "text": [
            "state                          object\n",
            "review_count                    int64\n",
            "is_open                         int64\n",
            "BusinessAcceptsCreditCards    float64\n",
            "RestaurantsPriceRange2         object\n",
            "Restaurants                     int64\n",
            "Food                            int64\n",
            "Shopping                        int64\n",
            "Home Services                   int64\n",
            "Beauty & Spas                   int64\n",
            "Nightlife                       int64\n",
            "Health & Medical                int64\n",
            "Local Services                  int64\n",
            "Bars                            int64\n",
            "Automotive                      int64\n",
            "garage                         object\n",
            "street                         object\n",
            "lot                            object\n",
            "valet                          object\n",
            "useful                          int64\n",
            "funny                           int64\n",
            "cool                            int64\n",
            "business_stars                float64\n",
            "review_stars                    int64\n",
            "dtype: object\n"
          ]
        }
      ],
      "source": [
        "# Fill missing values for columns that should be integers\n",
        "columns_to_fill = ['review_count', 'is_open', 'Restaurants', 'Food', 'Shopping', 'Home Services', 'Beauty & Spas',\n",
        "                   'Nightlife', 'Health & Medical', 'Local Services', 'Bars', 'Automotive']\n",
        "\n",
        "for column in columns_to_fill:\n",
        "    X_train[column].fillna(0, inplace=True)  # Filling missing values with 0\n",
        "\n",
        "# Convert the relevant columns from float64 to int64\n",
        "for column in columns_to_fill:\n",
        "    X_train[column] = X_train[column].astype(int)  # Converting to int\n",
        "\n",
        "# Fill missing values for object columns with 'Unknown'\n",
        "object_columns_to_fill = ['BusinessAcceptsCreditCards', 'RestaurantsPriceRange2', 'garage', 'street', 'lot', 'valet']\n",
        "\n",
        "for column in object_columns_to_fill:\n",
        "    X_train[column].fillna('Unknown', inplace=True)  # Filling with 'Unknown' for missing string values\n",
        "\n",
        "# Check the updated data types\n",
        "print(X_train.dtypes)\n"
      ]
    },
    {
      "cell_type": "code",
      "execution_count": 82,
      "metadata": {},
      "outputs": [
        {
          "data": {
            "text/html": [
              "<div>\n",
              "<style scoped>\n",
              "    .dataframe tbody tr th:only-of-type {\n",
              "        vertical-align: middle;\n",
              "    }\n",
              "\n",
              "    .dataframe tbody tr th {\n",
              "        vertical-align: top;\n",
              "    }\n",
              "\n",
              "    .dataframe thead th {\n",
              "        text-align: right;\n",
              "    }\n",
              "</style>\n",
              "<table border=\"1\" class=\"dataframe\">\n",
              "  <thead>\n",
              "    <tr style=\"text-align: right;\">\n",
              "      <th></th>\n",
              "      <th>state</th>\n",
              "      <th>review_count</th>\n",
              "      <th>is_open</th>\n",
              "      <th>BusinessAcceptsCreditCards</th>\n",
              "      <th>RestaurantsPriceRange2</th>\n",
              "      <th>Restaurants</th>\n",
              "      <th>Food</th>\n",
              "      <th>Shopping</th>\n",
              "      <th>Home Services</th>\n",
              "      <th>Beauty &amp; Spas</th>\n",
              "      <th>...</th>\n",
              "      <th>Automotive</th>\n",
              "      <th>garage</th>\n",
              "      <th>street</th>\n",
              "      <th>lot</th>\n",
              "      <th>valet</th>\n",
              "      <th>useful</th>\n",
              "      <th>funny</th>\n",
              "      <th>cool</th>\n",
              "      <th>business_stars</th>\n",
              "      <th>review_stars</th>\n",
              "    </tr>\n",
              "  </thead>\n",
              "  <tbody>\n",
              "    <tr>\n",
              "      <th>0</th>\n",
              "      <td>IN</td>\n",
              "      <td>18</td>\n",
              "      <td>0</td>\n",
              "      <td>2.0</td>\n",
              "      <td>2</td>\n",
              "      <td>1</td>\n",
              "      <td>0</td>\n",
              "      <td>0</td>\n",
              "      <td>0</td>\n",
              "      <td>0</td>\n",
              "      <td>...</td>\n",
              "      <td>0</td>\n",
              "      <td>False</td>\n",
              "      <td>False</td>\n",
              "      <td>True</td>\n",
              "      <td>False</td>\n",
              "      <td>1</td>\n",
              "      <td>0</td>\n",
              "      <td>0</td>\n",
              "      <td>2.5</td>\n",
              "      <td>4</td>\n",
              "    </tr>\n",
              "    <tr>\n",
              "      <th>1</th>\n",
              "      <td>FL</td>\n",
              "      <td>47</td>\n",
              "      <td>1</td>\n",
              "      <td>2.0</td>\n",
              "      <td>1</td>\n",
              "      <td>1</td>\n",
              "      <td>0</td>\n",
              "      <td>0</td>\n",
              "      <td>0</td>\n",
              "      <td>0</td>\n",
              "      <td>...</td>\n",
              "      <td>0</td>\n",
              "      <td>False</td>\n",
              "      <td>True</td>\n",
              "      <td>False</td>\n",
              "      <td>False</td>\n",
              "      <td>0</td>\n",
              "      <td>0</td>\n",
              "      <td>0</td>\n",
              "      <td>3.5</td>\n",
              "      <td>1</td>\n",
              "    </tr>\n",
              "    <tr>\n",
              "      <th>2</th>\n",
              "      <td>FL</td>\n",
              "      <td>87</td>\n",
              "      <td>1</td>\n",
              "      <td>2.0</td>\n",
              "      <td>1</td>\n",
              "      <td>1</td>\n",
              "      <td>1</td>\n",
              "      <td>0</td>\n",
              "      <td>0</td>\n",
              "      <td>0</td>\n",
              "      <td>...</td>\n",
              "      <td>0</td>\n",
              "      <td>False</td>\n",
              "      <td>False</td>\n",
              "      <td>True</td>\n",
              "      <td>False</td>\n",
              "      <td>2</td>\n",
              "      <td>1</td>\n",
              "      <td>3</td>\n",
              "      <td>3.5</td>\n",
              "      <td>4</td>\n",
              "    </tr>\n",
              "    <tr>\n",
              "      <th>3</th>\n",
              "      <td>FL</td>\n",
              "      <td>103</td>\n",
              "      <td>0</td>\n",
              "      <td>2.0</td>\n",
              "      <td>2</td>\n",
              "      <td>1</td>\n",
              "      <td>1</td>\n",
              "      <td>0</td>\n",
              "      <td>0</td>\n",
              "      <td>0</td>\n",
              "      <td>...</td>\n",
              "      <td>0</td>\n",
              "      <td>False</td>\n",
              "      <td>True</td>\n",
              "      <td>True</td>\n",
              "      <td>False</td>\n",
              "      <td>0</td>\n",
              "      <td>0</td>\n",
              "      <td>0</td>\n",
              "      <td>3.5</td>\n",
              "      <td>5</td>\n",
              "    </tr>\n",
              "    <tr>\n",
              "      <th>4</th>\n",
              "      <td>PA</td>\n",
              "      <td>40</td>\n",
              "      <td>1</td>\n",
              "      <td>3.0</td>\n",
              "      <td>Unknown</td>\n",
              "      <td>0</td>\n",
              "      <td>0</td>\n",
              "      <td>0</td>\n",
              "      <td>0</td>\n",
              "      <td>0</td>\n",
              "      <td>...</td>\n",
              "      <td>0</td>\n",
              "      <td>False</td>\n",
              "      <td>False</td>\n",
              "      <td>False</td>\n",
              "      <td>False</td>\n",
              "      <td>3</td>\n",
              "      <td>3</td>\n",
              "      <td>0</td>\n",
              "      <td>4.0</td>\n",
              "      <td>4</td>\n",
              "    </tr>\n",
              "    <tr>\n",
              "      <th>...</th>\n",
              "      <td>...</td>\n",
              "      <td>...</td>\n",
              "      <td>...</td>\n",
              "      <td>...</td>\n",
              "      <td>...</td>\n",
              "      <td>...</td>\n",
              "      <td>...</td>\n",
              "      <td>...</td>\n",
              "      <td>...</td>\n",
              "      <td>...</td>\n",
              "      <td>...</td>\n",
              "      <td>...</td>\n",
              "      <td>...</td>\n",
              "      <td>...</td>\n",
              "      <td>...</td>\n",
              "      <td>...</td>\n",
              "      <td>...</td>\n",
              "      <td>...</td>\n",
              "      <td>...</td>\n",
              "      <td>...</td>\n",
              "      <td>...</td>\n",
              "    </tr>\n",
              "    <tr>\n",
              "      <th>648860</th>\n",
              "      <td>PA</td>\n",
              "      <td>2761</td>\n",
              "      <td>1</td>\n",
              "      <td>2.0</td>\n",
              "      <td>3</td>\n",
              "      <td>1</td>\n",
              "      <td>0</td>\n",
              "      <td>0</td>\n",
              "      <td>0</td>\n",
              "      <td>0</td>\n",
              "      <td>...</td>\n",
              "      <td>0</td>\n",
              "      <td>False</td>\n",
              "      <td>False</td>\n",
              "      <td>True</td>\n",
              "      <td>False</td>\n",
              "      <td>0</td>\n",
              "      <td>0</td>\n",
              "      <td>0</td>\n",
              "      <td>4.0</td>\n",
              "      <td>3</td>\n",
              "    </tr>\n",
              "    <tr>\n",
              "      <th>648861</th>\n",
              "      <td>PA</td>\n",
              "      <td>206</td>\n",
              "      <td>0</td>\n",
              "      <td>2.0</td>\n",
              "      <td>1</td>\n",
              "      <td>1</td>\n",
              "      <td>0</td>\n",
              "      <td>0</td>\n",
              "      <td>0</td>\n",
              "      <td>0</td>\n",
              "      <td>...</td>\n",
              "      <td>0</td>\n",
              "      <td>False</td>\n",
              "      <td>False</td>\n",
              "      <td>True</td>\n",
              "      <td>False</td>\n",
              "      <td>0</td>\n",
              "      <td>0</td>\n",
              "      <td>0</td>\n",
              "      <td>4.5</td>\n",
              "      <td>5</td>\n",
              "    </tr>\n",
              "    <tr>\n",
              "      <th>648862</th>\n",
              "      <td>LA</td>\n",
              "      <td>337</td>\n",
              "      <td>1</td>\n",
              "      <td>2.0</td>\n",
              "      <td>2</td>\n",
              "      <td>1</td>\n",
              "      <td>0</td>\n",
              "      <td>0</td>\n",
              "      <td>0</td>\n",
              "      <td>0</td>\n",
              "      <td>...</td>\n",
              "      <td>0</td>\n",
              "      <td>False</td>\n",
              "      <td>True</td>\n",
              "      <td>False</td>\n",
              "      <td>False</td>\n",
              "      <td>0</td>\n",
              "      <td>0</td>\n",
              "      <td>0</td>\n",
              "      <td>4.0</td>\n",
              "      <td>2</td>\n",
              "    </tr>\n",
              "    <tr>\n",
              "      <th>648863</th>\n",
              "      <td>PA</td>\n",
              "      <td>261</td>\n",
              "      <td>0</td>\n",
              "      <td>2.0</td>\n",
              "      <td>2</td>\n",
              "      <td>1</td>\n",
              "      <td>1</td>\n",
              "      <td>0</td>\n",
              "      <td>0</td>\n",
              "      <td>0</td>\n",
              "      <td>...</td>\n",
              "      <td>0</td>\n",
              "      <td>False</td>\n",
              "      <td>False</td>\n",
              "      <td>True</td>\n",
              "      <td>False</td>\n",
              "      <td>2</td>\n",
              "      <td>1</td>\n",
              "      <td>2</td>\n",
              "      <td>4.0</td>\n",
              "      <td>4</td>\n",
              "    </tr>\n",
              "    <tr>\n",
              "      <th>648864</th>\n",
              "      <td>PA</td>\n",
              "      <td>29</td>\n",
              "      <td>1</td>\n",
              "      <td>3.0</td>\n",
              "      <td>Unknown</td>\n",
              "      <td>1</td>\n",
              "      <td>0</td>\n",
              "      <td>0</td>\n",
              "      <td>0</td>\n",
              "      <td>0</td>\n",
              "      <td>...</td>\n",
              "      <td>0</td>\n",
              "      <td>False</td>\n",
              "      <td>True</td>\n",
              "      <td>False</td>\n",
              "      <td>False</td>\n",
              "      <td>0</td>\n",
              "      <td>0</td>\n",
              "      <td>1</td>\n",
              "      <td>5.0</td>\n",
              "      <td>5</td>\n",
              "    </tr>\n",
              "  </tbody>\n",
              "</table>\n",
              "<p>648865 rows × 24 columns</p>\n",
              "</div>"
            ],
            "text/plain": [
              "       state  review_count  is_open  BusinessAcceptsCreditCards  \\\n",
              "0         IN            18        0                         2.0   \n",
              "1         FL            47        1                         2.0   \n",
              "2         FL            87        1                         2.0   \n",
              "3         FL           103        0                         2.0   \n",
              "4         PA            40        1                         3.0   \n",
              "...      ...           ...      ...                         ...   \n",
              "648860    PA          2761        1                         2.0   \n",
              "648861    PA           206        0                         2.0   \n",
              "648862    LA           337        1                         2.0   \n",
              "648863    PA           261        0                         2.0   \n",
              "648864    PA            29        1                         3.0   \n",
              "\n",
              "       RestaurantsPriceRange2  Restaurants  Food  Shopping  Home Services  \\\n",
              "0                           2            1     0         0              0   \n",
              "1                           1            1     0         0              0   \n",
              "2                           1            1     1         0              0   \n",
              "3                           2            1     1         0              0   \n",
              "4                     Unknown            0     0         0              0   \n",
              "...                       ...          ...   ...       ...            ...   \n",
              "648860                      3            1     0         0              0   \n",
              "648861                      1            1     0         0              0   \n",
              "648862                      2            1     0         0              0   \n",
              "648863                      2            1     1         0              0   \n",
              "648864                Unknown            1     0         0              0   \n",
              "\n",
              "        Beauty & Spas  ...  Automotive  garage  street    lot  valet useful  \\\n",
              "0                   0  ...           0   False   False   True  False      1   \n",
              "1                   0  ...           0   False    True  False  False      0   \n",
              "2                   0  ...           0   False   False   True  False      2   \n",
              "3                   0  ...           0   False    True   True  False      0   \n",
              "4                   0  ...           0   False   False  False  False      3   \n",
              "...               ...  ...         ...     ...     ...    ...    ...    ...   \n",
              "648860              0  ...           0   False   False   True  False      0   \n",
              "648861              0  ...           0   False   False   True  False      0   \n",
              "648862              0  ...           0   False    True  False  False      0   \n",
              "648863              0  ...           0   False   False   True  False      2   \n",
              "648864              0  ...           0   False    True  False  False      0   \n",
              "\n",
              "       funny cool business_stars  review_stars  \n",
              "0          0    0            2.5             4  \n",
              "1          0    0            3.5             1  \n",
              "2          1    3            3.5             4  \n",
              "3          0    0            3.5             5  \n",
              "4          3    0            4.0             4  \n",
              "...      ...  ...            ...           ...  \n",
              "648860     0    0            4.0             3  \n",
              "648861     0    0            4.5             5  \n",
              "648862     0    0            4.0             2  \n",
              "648863     1    2            4.0             4  \n",
              "648864     0    1            5.0             5  \n",
              "\n",
              "[648865 rows x 24 columns]"
            ]
          },
          "execution_count": 82,
          "metadata": {},
          "output_type": "execute_result"
        }
      ],
      "source": [
        "X_train"
      ]
    },
    {
      "cell_type": "code",
      "execution_count": 83,
      "metadata": {},
      "outputs": [],
      "source": [
        "\n",
        "\n",
        "# Replace 'True', 'False', 'None' values in 'BusinessAcceptsCreditCards' with 1, 0, and NaN respectively\n",
        "X_train['BusinessAcceptsCreditCards'] = X_train['BusinessAcceptsCreditCards'].replace({\n",
        "    'True': 1, 'False': 0, 'None': np.nan\n",
        "})\n",
        "X_test['BusinessAcceptsCreditCards'] = X_test['BusinessAcceptsCreditCards'].replace({\n",
        "    'True': 1, 'False': 0, 'None': np.nan\n",
        "})\n",
        "\n",
        "# Fill NaN values with mode for 'BusinessAcceptsCreditCards'\n",
        "mode_value_train = X_train['BusinessAcceptsCreditCards'].mode()[0]\n",
        "X_train['BusinessAcceptsCreditCards'].fillna(mode_value_train, inplace=True)\n",
        "\n",
        "mode_value_test = X_test['BusinessAcceptsCreditCards'].mode()[0]\n",
        "X_test['BusinessAcceptsCreditCards'].fillna(mode_value_test, inplace=True)\n",
        "\n",
        "# Replace 'None' with NaN in 'RestaurantsPriceRange2'\n",
        "X_train['RestaurantsPriceRange2'] = X_train['RestaurantsPriceRange2'].replace('None', np.nan)\n",
        "X_test['RestaurantsPriceRange2'] = X_test['RestaurantsPriceRange2'].replace('None', np.nan)\n",
        "\n",
        "# Fill NaN values with mode for 'RestaurantsPriceRange2'\n",
        "mode_value_train = X_train['RestaurantsPriceRange2'].mode()[0]\n",
        "X_train['RestaurantsPriceRange2'].fillna(mode_value_train, inplace=True)\n",
        "\n",
        "mode_value_test = X_test['RestaurantsPriceRange2'].mode()[0]\n",
        "X_test['RestaurantsPriceRange2'].fillna(mode_value_test, inplace=True)\n",
        "\n",
        "# Fill missing values in 'garage' with mode\n",
        "mode_value_train = X_train['garage'].mode()[0]\n",
        "X_train['garage'].fillna(mode_value_train, inplace=True)\n",
        "\n",
        "mode_value_test = X_test['garage'].mode()[0]\n",
        "X_test['garage'].fillna(mode_value_test, inplace=True)\n",
        "\n",
        "# Fill missing values in 'street' with mode\n",
        "mode_value_train = X_train['street'].mode()[0]\n",
        "X_train['street'].fillna(mode_value_train, inplace=True)\n",
        "\n",
        "mode_value_test = X_test['street'].mode()[0]\n",
        "X_test['street'].fillna(mode_value_test, inplace=True)\n",
        "\n",
        "# Fill missing values in 'lot' with mode\n",
        "mode_value_train = X_train['lot'].mode()[0]\n",
        "X_train['lot'].fillna(mode_value_train, inplace=True)\n",
        "\n",
        "mode_value_test = X_test['lot'].mode()[0]\n",
        "X_test['lot'].fillna(mode_value_test, inplace=True)\n",
        "\n",
        "# Check for remaining missing values\n",
        "missing_values_train = X_train.isnull().sum()\n",
        "missing_values_test = X_test.isnull().sum()\n",
        "\n"
      ]
    },
    {
      "cell_type": "code",
      "execution_count": 84,
      "metadata": {},
      "outputs": [
        {
          "name": "stdout",
          "output_type": "stream",
          "text": [
            "<class 'pandas.core.frame.DataFrame'>\n",
            "RangeIndex: 648865 entries, 0 to 648864\n",
            "Data columns (total 24 columns):\n",
            " #   Column                      Non-Null Count   Dtype  \n",
            "---  ------                      --------------   -----  \n",
            " 0   state                       648865 non-null  object \n",
            " 1   review_count                648865 non-null  int64  \n",
            " 2   is_open                     648865 non-null  int64  \n",
            " 3   BusinessAcceptsCreditCards  648865 non-null  float64\n",
            " 4   RestaurantsPriceRange2      648865 non-null  object \n",
            " 5   Restaurants                 648865 non-null  int64  \n",
            " 6   Food                        648865 non-null  int64  \n",
            " 7   Shopping                    648865 non-null  int64  \n",
            " 8   Home Services               648865 non-null  int64  \n",
            " 9   Beauty & Spas               648865 non-null  int64  \n",
            " 10  Nightlife                   648865 non-null  int64  \n",
            " 11  Health & Medical            648865 non-null  int64  \n",
            " 12  Local Services              648865 non-null  int64  \n",
            " 13  Bars                        648865 non-null  int64  \n",
            " 14  Automotive                  648865 non-null  int64  \n",
            " 15  garage                      648865 non-null  object \n",
            " 16  street                      648865 non-null  object \n",
            " 17  lot                         648865 non-null  object \n",
            " 18  valet                       648865 non-null  object \n",
            " 19  useful                      648865 non-null  int64  \n",
            " 20  funny                       648865 non-null  int64  \n",
            " 21  cool                        648865 non-null  int64  \n",
            " 22  business_stars              648865 non-null  float64\n",
            " 23  review_stars                648865 non-null  int64  \n",
            "dtypes: float64(2), int64(16), object(6)\n",
            "memory usage: 118.8+ MB\n"
          ]
        }
      ],
      "source": [
        "X_train.info()"
      ]
    },
    {
      "cell_type": "code",
      "execution_count": 85,
      "metadata": {},
      "outputs": [
        {
          "data": {
            "text/html": [
              "<div>\n",
              "<style scoped>\n",
              "    .dataframe tbody tr th:only-of-type {\n",
              "        vertical-align: middle;\n",
              "    }\n",
              "\n",
              "    .dataframe tbody tr th {\n",
              "        vertical-align: top;\n",
              "    }\n",
              "\n",
              "    .dataframe thead th {\n",
              "        text-align: right;\n",
              "    }\n",
              "</style>\n",
              "<table border=\"1\" class=\"dataframe\">\n",
              "  <thead>\n",
              "    <tr style=\"text-align: right;\">\n",
              "      <th></th>\n",
              "      <th>state</th>\n",
              "      <th>review_count</th>\n",
              "      <th>is_open</th>\n",
              "      <th>BusinessAcceptsCreditCards</th>\n",
              "      <th>RestaurantsPriceRange2</th>\n",
              "      <th>Restaurants</th>\n",
              "      <th>Food</th>\n",
              "      <th>Shopping</th>\n",
              "      <th>Home Services</th>\n",
              "      <th>Beauty &amp; Spas</th>\n",
              "      <th>...</th>\n",
              "      <th>Automotive</th>\n",
              "      <th>garage</th>\n",
              "      <th>street</th>\n",
              "      <th>lot</th>\n",
              "      <th>valet</th>\n",
              "      <th>useful</th>\n",
              "      <th>funny</th>\n",
              "      <th>cool</th>\n",
              "      <th>business_stars</th>\n",
              "      <th>review_stars</th>\n",
              "    </tr>\n",
              "  </thead>\n",
              "  <tbody>\n",
              "    <tr>\n",
              "      <th>0</th>\n",
              "      <td>IN</td>\n",
              "      <td>18</td>\n",
              "      <td>0</td>\n",
              "      <td>2.0</td>\n",
              "      <td>2</td>\n",
              "      <td>1</td>\n",
              "      <td>0</td>\n",
              "      <td>0</td>\n",
              "      <td>0</td>\n",
              "      <td>0</td>\n",
              "      <td>...</td>\n",
              "      <td>0</td>\n",
              "      <td>False</td>\n",
              "      <td>False</td>\n",
              "      <td>True</td>\n",
              "      <td>False</td>\n",
              "      <td>1</td>\n",
              "      <td>0</td>\n",
              "      <td>0</td>\n",
              "      <td>2.5</td>\n",
              "      <td>4</td>\n",
              "    </tr>\n",
              "    <tr>\n",
              "      <th>1</th>\n",
              "      <td>FL</td>\n",
              "      <td>47</td>\n",
              "      <td>1</td>\n",
              "      <td>2.0</td>\n",
              "      <td>1</td>\n",
              "      <td>1</td>\n",
              "      <td>0</td>\n",
              "      <td>0</td>\n",
              "      <td>0</td>\n",
              "      <td>0</td>\n",
              "      <td>...</td>\n",
              "      <td>0</td>\n",
              "      <td>False</td>\n",
              "      <td>True</td>\n",
              "      <td>False</td>\n",
              "      <td>False</td>\n",
              "      <td>0</td>\n",
              "      <td>0</td>\n",
              "      <td>0</td>\n",
              "      <td>3.5</td>\n",
              "      <td>1</td>\n",
              "    </tr>\n",
              "    <tr>\n",
              "      <th>2</th>\n",
              "      <td>FL</td>\n",
              "      <td>87</td>\n",
              "      <td>1</td>\n",
              "      <td>2.0</td>\n",
              "      <td>1</td>\n",
              "      <td>1</td>\n",
              "      <td>1</td>\n",
              "      <td>0</td>\n",
              "      <td>0</td>\n",
              "      <td>0</td>\n",
              "      <td>...</td>\n",
              "      <td>0</td>\n",
              "      <td>False</td>\n",
              "      <td>False</td>\n",
              "      <td>True</td>\n",
              "      <td>False</td>\n",
              "      <td>2</td>\n",
              "      <td>1</td>\n",
              "      <td>3</td>\n",
              "      <td>3.5</td>\n",
              "      <td>4</td>\n",
              "    </tr>\n",
              "    <tr>\n",
              "      <th>3</th>\n",
              "      <td>FL</td>\n",
              "      <td>103</td>\n",
              "      <td>0</td>\n",
              "      <td>2.0</td>\n",
              "      <td>2</td>\n",
              "      <td>1</td>\n",
              "      <td>1</td>\n",
              "      <td>0</td>\n",
              "      <td>0</td>\n",
              "      <td>0</td>\n",
              "      <td>...</td>\n",
              "      <td>0</td>\n",
              "      <td>False</td>\n",
              "      <td>True</td>\n",
              "      <td>True</td>\n",
              "      <td>False</td>\n",
              "      <td>0</td>\n",
              "      <td>0</td>\n",
              "      <td>0</td>\n",
              "      <td>3.5</td>\n",
              "      <td>5</td>\n",
              "    </tr>\n",
              "    <tr>\n",
              "      <th>4</th>\n",
              "      <td>PA</td>\n",
              "      <td>40</td>\n",
              "      <td>1</td>\n",
              "      <td>3.0</td>\n",
              "      <td>Unknown</td>\n",
              "      <td>0</td>\n",
              "      <td>0</td>\n",
              "      <td>0</td>\n",
              "      <td>0</td>\n",
              "      <td>0</td>\n",
              "      <td>...</td>\n",
              "      <td>0</td>\n",
              "      <td>False</td>\n",
              "      <td>False</td>\n",
              "      <td>False</td>\n",
              "      <td>False</td>\n",
              "      <td>3</td>\n",
              "      <td>3</td>\n",
              "      <td>0</td>\n",
              "      <td>4.0</td>\n",
              "      <td>4</td>\n",
              "    </tr>\n",
              "  </tbody>\n",
              "</table>\n",
              "<p>5 rows × 24 columns</p>\n",
              "</div>"
            ],
            "text/plain": [
              "  state  review_count  is_open  BusinessAcceptsCreditCards  \\\n",
              "0    IN            18        0                         2.0   \n",
              "1    FL            47        1                         2.0   \n",
              "2    FL            87        1                         2.0   \n",
              "3    FL           103        0                         2.0   \n",
              "4    PA            40        1                         3.0   \n",
              "\n",
              "  RestaurantsPriceRange2  Restaurants  Food  Shopping  Home Services  \\\n",
              "0                      2            1     0         0              0   \n",
              "1                      1            1     0         0              0   \n",
              "2                      1            1     1         0              0   \n",
              "3                      2            1     1         0              0   \n",
              "4                Unknown            0     0         0              0   \n",
              "\n",
              "   Beauty & Spas  ...  Automotive  garage  street    lot  valet useful funny  \\\n",
              "0              0  ...           0   False   False   True  False      1     0   \n",
              "1              0  ...           0   False    True  False  False      0     0   \n",
              "2              0  ...           0   False   False   True  False      2     1   \n",
              "3              0  ...           0   False    True   True  False      0     0   \n",
              "4              0  ...           0   False   False  False  False      3     3   \n",
              "\n",
              "  cool business_stars  review_stars  \n",
              "0    0            2.5             4  \n",
              "1    0            3.5             1  \n",
              "2    3            3.5             4  \n",
              "3    0            3.5             5  \n",
              "4    0            4.0             4  \n",
              "\n",
              "[5 rows x 24 columns]"
            ]
          },
          "execution_count": 85,
          "metadata": {},
          "output_type": "execute_result"
        }
      ],
      "source": [
        "X_train.head()"
      ]
    },
    {
      "cell_type": "code",
      "execution_count": 86,
      "metadata": {},
      "outputs": [],
      "source": [
        "numerical_data = X_train.select_dtypes(include=['integer','float']).columns"
      ]
    },
    {
      "cell_type": "code",
      "execution_count": 87,
      "metadata": {},
      "outputs": [
        {
          "data": {
            "text/plain": [
              "Index(['review_count', 'is_open', 'BusinessAcceptsCreditCards', 'Restaurants',\n",
              "       'Food', 'Shopping', 'Home Services', 'Beauty & Spas', 'Nightlife',\n",
              "       'Health & Medical', 'Local Services', 'Bars', 'Automotive', 'useful',\n",
              "       'funny', 'cool', 'business_stars', 'review_stars'],\n",
              "      dtype='object')"
            ]
          },
          "execution_count": 87,
          "metadata": {},
          "output_type": "execute_result"
        }
      ],
      "source": [
        "numerical_data"
      ]
    },
    {
      "cell_type": "code",
      "execution_count": 88,
      "metadata": {},
      "outputs": [
        {
          "name": "stdout",
          "output_type": "stream",
          "text": [
            "<class 'pandas.core.frame.DataFrame'>\n",
            "RangeIndex: 648865 entries, 0 to 648864\n",
            "Data columns (total 24 columns):\n",
            " #   Column                      Non-Null Count   Dtype \n",
            "---  ------                      --------------   ----- \n",
            " 0   state                       648865 non-null  object\n",
            " 1   review_count                648865 non-null  int64 \n",
            " 2   is_open                     648865 non-null  bool  \n",
            " 3   BusinessAcceptsCreditCards  648865 non-null  bool  \n",
            " 4   RestaurantsPriceRange2      648865 non-null  object\n",
            " 5   Restaurants                 648865 non-null  bool  \n",
            " 6   Food                        648865 non-null  bool  \n",
            " 7   Shopping                    648865 non-null  bool  \n",
            " 8   Home Services               648865 non-null  bool  \n",
            " 9   Beauty & Spas               648865 non-null  bool  \n",
            " 10  Nightlife                   648865 non-null  bool  \n",
            " 11  Health & Medical            648865 non-null  bool  \n",
            " 12  Local Services              648865 non-null  bool  \n",
            " 13  Bars                        648865 non-null  bool  \n",
            " 14  Automotive                  648865 non-null  bool  \n",
            " 15  garage                      648865 non-null  object\n",
            " 16  street                      648865 non-null  object\n",
            " 17  lot                         648865 non-null  object\n",
            " 18  valet                       648865 non-null  bool  \n",
            " 19  useful                      648865 non-null  bool  \n",
            " 20  funny                       648865 non-null  bool  \n",
            " 21  cool                        648865 non-null  bool  \n",
            " 22  business_stars              648865 non-null  bool  \n",
            " 23  review_stars                648865 non-null  bool  \n",
            "dtypes: bool(18), int64(1), object(5)\n",
            "memory usage: 40.8+ MB\n"
          ]
        }
      ],
      "source": [
        "# Correct the column selection by using double square brackets\n",
        "X_train[['review_stars', 'business_stars', 'Automotive', 'is_open', 'BusinessAcceptsCreditCards', 'Restaurants', 'Food',\n",
        "         'Shopping', 'Home Services', 'Beauty & Spas', 'Nightlife', 'Health & Medical', 'Local Services', 'Bars',\n",
        "         'useful', 'funny', 'cool','valet']] = X_train[['review_stars', 'business_stars', 'Automotive', 'is_open', \n",
        "         'BusinessAcceptsCreditCards', 'Restaurants', 'Food', 'Shopping', 'Home Services', 'Beauty & Spas', 'Nightlife',\n",
        "         'Health & Medical', 'Local Services', 'Bars', 'useful', 'funny', 'cool','valet']].astype(bool)\n",
        "\n",
        "# Display the info of the dataframe\n",
        "X_train.info()"
      ]
    },
    {
      "cell_type": "code",
      "execution_count": 89,
      "metadata": {},
      "outputs": [
        {
          "data": {
            "text/plain": [
              "validated\n",
              "0    642800\n",
              "1      6065\n",
              "Name: count, dtype: int64"
            ]
          },
          "execution_count": 89,
          "metadata": {},
          "output_type": "execute_result"
        }
      ],
      "source": [
        "y_train.value_counts()"
      ]
    },
    {
      "cell_type": "code",
      "execution_count": 90,
      "metadata": {},
      "outputs": [
        {
          "data": {
            "text/plain": [
              "validated\n",
              "0    160701\n",
              "1      1516\n",
              "Name: count, dtype: int64"
            ]
          },
          "execution_count": 90,
          "metadata": {},
          "output_type": "execute_result"
        }
      ],
      "source": [
        "y_test.value_counts()"
      ]
    },
    {
      "cell_type": "code",
      "execution_count": 91,
      "metadata": {},
      "outputs": [
        {
          "name": "stdout",
          "output_type": "stream",
          "text": [
            "(648865, 24)\n",
            "(648865,)\n",
            "(162217, 24)\n",
            "(162217,)\n"
          ]
        }
      ],
      "source": [
        "print(X_train.shape)\n",
        "print(y_train.shape)\n",
        "print(X_test.shape)\n",
        "print(y_test.shape)"
      ]
    },
    {
      "cell_type": "code",
      "execution_count": 92,
      "metadata": {},
      "outputs": [
        {
          "name": "stdout",
          "output_type": "stream",
          "text": [
            "<class 'pandas.core.frame.DataFrame'>\n",
            "RangeIndex: 648865 entries, 0 to 648864\n",
            "Data columns (total 24 columns):\n",
            " #   Column                      Non-Null Count   Dtype \n",
            "---  ------                      --------------   ----- \n",
            " 0   state                       648865 non-null  object\n",
            " 1   review_count                648865 non-null  int64 \n",
            " 2   is_open                     648865 non-null  bool  \n",
            " 3   BusinessAcceptsCreditCards  648865 non-null  bool  \n",
            " 4   RestaurantsPriceRange2      648865 non-null  object\n",
            " 5   Restaurants                 648865 non-null  bool  \n",
            " 6   Food                        648865 non-null  bool  \n",
            " 7   Shopping                    648865 non-null  bool  \n",
            " 8   Home Services               648865 non-null  bool  \n",
            " 9   Beauty & Spas               648865 non-null  bool  \n",
            " 10  Nightlife                   648865 non-null  bool  \n",
            " 11  Health & Medical            648865 non-null  bool  \n",
            " 12  Local Services              648865 non-null  bool  \n",
            " 13  Bars                        648865 non-null  bool  \n",
            " 14  Automotive                  648865 non-null  bool  \n",
            " 15  garage                      648865 non-null  object\n",
            " 16  street                      648865 non-null  object\n",
            " 17  lot                         648865 non-null  object\n",
            " 18  valet                       648865 non-null  bool  \n",
            " 19  useful                      648865 non-null  bool  \n",
            " 20  funny                       648865 non-null  bool  \n",
            " 21  cool                        648865 non-null  bool  \n",
            " 22  business_stars              648865 non-null  object\n",
            " 23  review_stars                648865 non-null  object\n",
            "dtypes: bool(16), int64(1), object(7)\n",
            "memory usage: 49.5+ MB\n"
          ]
        }
      ],
      "source": [
        "columns_to_object = ['state','review_stars', 'business_stars']\n",
        "\n",
        "# Define columns to convert to boolean\n",
        "columns_to_boolean = ['BusinessAcceptsCreditCards', 'Automotive', 'is_open', 'Restaurants', 'Food',\n",
        "                      'Shopping', 'Home Services', 'Beauty & Spas', 'Nightlife', 'Health & Medical', \n",
        "                      'Local Services', 'Bars', 'useful', 'funny', 'cool', 'valet']\n",
        "\n",
        "# Convert specified columns to object\n",
        "X_train[columns_to_object] = X_train[columns_to_object].astype(object)\n",
        "\n",
        "# Convert specified columns to boolean\n",
        "X_train[columns_to_boolean] = X_train[columns_to_boolean].astype(bool)\n",
        "\n",
        "# Display the info of the dataframe\n",
        "X_train.info()"
      ]
    },
    {
      "cell_type": "code",
      "execution_count": 93,
      "metadata": {},
      "outputs": [
        {
          "name": "stdout",
          "output_type": "stream",
          "text": [
            "(648865, 24)\n",
            "(648865,)\n",
            "(162217, 24)\n",
            "(162217,)\n"
          ]
        }
      ],
      "source": [
        "print(X_train.shape)\n",
        "print(y_train.shape)\n",
        "print(X_test.shape)\n",
        "print(y_test.shape)"
      ]
    },
    {
      "cell_type": "code",
      "execution_count": 94,
      "metadata": {},
      "outputs": [
        {
          "data": {
            "text/html": [
              "<div>\n",
              "<style scoped>\n",
              "    .dataframe tbody tr th:only-of-type {\n",
              "        vertical-align: middle;\n",
              "    }\n",
              "\n",
              "    .dataframe tbody tr th {\n",
              "        vertical-align: top;\n",
              "    }\n",
              "\n",
              "    .dataframe thead th {\n",
              "        text-align: right;\n",
              "    }\n",
              "</style>\n",
              "<table border=\"1\" class=\"dataframe\">\n",
              "  <thead>\n",
              "    <tr style=\"text-align: right;\">\n",
              "      <th></th>\n",
              "      <th>state</th>\n",
              "      <th>review_count</th>\n",
              "      <th>is_open</th>\n",
              "      <th>BusinessAcceptsCreditCards</th>\n",
              "      <th>RestaurantsPriceRange2</th>\n",
              "      <th>Restaurants</th>\n",
              "      <th>Food</th>\n",
              "      <th>Shopping</th>\n",
              "      <th>Home Services</th>\n",
              "      <th>Beauty &amp; Spas</th>\n",
              "      <th>...</th>\n",
              "      <th>Automotive</th>\n",
              "      <th>garage</th>\n",
              "      <th>street</th>\n",
              "      <th>lot</th>\n",
              "      <th>valet</th>\n",
              "      <th>useful</th>\n",
              "      <th>funny</th>\n",
              "      <th>cool</th>\n",
              "      <th>business_stars</th>\n",
              "      <th>review_stars</th>\n",
              "    </tr>\n",
              "  </thead>\n",
              "  <tbody>\n",
              "    <tr>\n",
              "      <th>0</th>\n",
              "      <td>IN</td>\n",
              "      <td>18</td>\n",
              "      <td>False</td>\n",
              "      <td>True</td>\n",
              "      <td>2</td>\n",
              "      <td>True</td>\n",
              "      <td>False</td>\n",
              "      <td>False</td>\n",
              "      <td>False</td>\n",
              "      <td>False</td>\n",
              "      <td>...</td>\n",
              "      <td>False</td>\n",
              "      <td>False</td>\n",
              "      <td>False</td>\n",
              "      <td>True</td>\n",
              "      <td>False</td>\n",
              "      <td>True</td>\n",
              "      <td>False</td>\n",
              "      <td>False</td>\n",
              "      <td>True</td>\n",
              "      <td>True</td>\n",
              "    </tr>\n",
              "    <tr>\n",
              "      <th>1</th>\n",
              "      <td>FL</td>\n",
              "      <td>47</td>\n",
              "      <td>True</td>\n",
              "      <td>True</td>\n",
              "      <td>1</td>\n",
              "      <td>True</td>\n",
              "      <td>False</td>\n",
              "      <td>False</td>\n",
              "      <td>False</td>\n",
              "      <td>False</td>\n",
              "      <td>...</td>\n",
              "      <td>False</td>\n",
              "      <td>False</td>\n",
              "      <td>True</td>\n",
              "      <td>False</td>\n",
              "      <td>False</td>\n",
              "      <td>False</td>\n",
              "      <td>False</td>\n",
              "      <td>False</td>\n",
              "      <td>True</td>\n",
              "      <td>True</td>\n",
              "    </tr>\n",
              "    <tr>\n",
              "      <th>2</th>\n",
              "      <td>FL</td>\n",
              "      <td>87</td>\n",
              "      <td>True</td>\n",
              "      <td>True</td>\n",
              "      <td>1</td>\n",
              "      <td>True</td>\n",
              "      <td>True</td>\n",
              "      <td>False</td>\n",
              "      <td>False</td>\n",
              "      <td>False</td>\n",
              "      <td>...</td>\n",
              "      <td>False</td>\n",
              "      <td>False</td>\n",
              "      <td>False</td>\n",
              "      <td>True</td>\n",
              "      <td>False</td>\n",
              "      <td>True</td>\n",
              "      <td>True</td>\n",
              "      <td>True</td>\n",
              "      <td>True</td>\n",
              "      <td>True</td>\n",
              "    </tr>\n",
              "    <tr>\n",
              "      <th>3</th>\n",
              "      <td>FL</td>\n",
              "      <td>103</td>\n",
              "      <td>False</td>\n",
              "      <td>True</td>\n",
              "      <td>2</td>\n",
              "      <td>True</td>\n",
              "      <td>True</td>\n",
              "      <td>False</td>\n",
              "      <td>False</td>\n",
              "      <td>False</td>\n",
              "      <td>...</td>\n",
              "      <td>False</td>\n",
              "      <td>False</td>\n",
              "      <td>True</td>\n",
              "      <td>True</td>\n",
              "      <td>False</td>\n",
              "      <td>False</td>\n",
              "      <td>False</td>\n",
              "      <td>False</td>\n",
              "      <td>True</td>\n",
              "      <td>True</td>\n",
              "    </tr>\n",
              "    <tr>\n",
              "      <th>4</th>\n",
              "      <td>PA</td>\n",
              "      <td>40</td>\n",
              "      <td>True</td>\n",
              "      <td>True</td>\n",
              "      <td>Unknown</td>\n",
              "      <td>False</td>\n",
              "      <td>False</td>\n",
              "      <td>False</td>\n",
              "      <td>False</td>\n",
              "      <td>False</td>\n",
              "      <td>...</td>\n",
              "      <td>False</td>\n",
              "      <td>False</td>\n",
              "      <td>False</td>\n",
              "      <td>False</td>\n",
              "      <td>False</td>\n",
              "      <td>True</td>\n",
              "      <td>True</td>\n",
              "      <td>False</td>\n",
              "      <td>True</td>\n",
              "      <td>True</td>\n",
              "    </tr>\n",
              "    <tr>\n",
              "      <th>...</th>\n",
              "      <td>...</td>\n",
              "      <td>...</td>\n",
              "      <td>...</td>\n",
              "      <td>...</td>\n",
              "      <td>...</td>\n",
              "      <td>...</td>\n",
              "      <td>...</td>\n",
              "      <td>...</td>\n",
              "      <td>...</td>\n",
              "      <td>...</td>\n",
              "      <td>...</td>\n",
              "      <td>...</td>\n",
              "      <td>...</td>\n",
              "      <td>...</td>\n",
              "      <td>...</td>\n",
              "      <td>...</td>\n",
              "      <td>...</td>\n",
              "      <td>...</td>\n",
              "      <td>...</td>\n",
              "      <td>...</td>\n",
              "      <td>...</td>\n",
              "    </tr>\n",
              "    <tr>\n",
              "      <th>648860</th>\n",
              "      <td>PA</td>\n",
              "      <td>2761</td>\n",
              "      <td>True</td>\n",
              "      <td>True</td>\n",
              "      <td>3</td>\n",
              "      <td>True</td>\n",
              "      <td>False</td>\n",
              "      <td>False</td>\n",
              "      <td>False</td>\n",
              "      <td>False</td>\n",
              "      <td>...</td>\n",
              "      <td>False</td>\n",
              "      <td>False</td>\n",
              "      <td>False</td>\n",
              "      <td>True</td>\n",
              "      <td>False</td>\n",
              "      <td>False</td>\n",
              "      <td>False</td>\n",
              "      <td>False</td>\n",
              "      <td>True</td>\n",
              "      <td>True</td>\n",
              "    </tr>\n",
              "    <tr>\n",
              "      <th>648861</th>\n",
              "      <td>PA</td>\n",
              "      <td>206</td>\n",
              "      <td>False</td>\n",
              "      <td>True</td>\n",
              "      <td>1</td>\n",
              "      <td>True</td>\n",
              "      <td>False</td>\n",
              "      <td>False</td>\n",
              "      <td>False</td>\n",
              "      <td>False</td>\n",
              "      <td>...</td>\n",
              "      <td>False</td>\n",
              "      <td>False</td>\n",
              "      <td>False</td>\n",
              "      <td>True</td>\n",
              "      <td>False</td>\n",
              "      <td>False</td>\n",
              "      <td>False</td>\n",
              "      <td>False</td>\n",
              "      <td>True</td>\n",
              "      <td>True</td>\n",
              "    </tr>\n",
              "    <tr>\n",
              "      <th>648862</th>\n",
              "      <td>LA</td>\n",
              "      <td>337</td>\n",
              "      <td>True</td>\n",
              "      <td>True</td>\n",
              "      <td>2</td>\n",
              "      <td>True</td>\n",
              "      <td>False</td>\n",
              "      <td>False</td>\n",
              "      <td>False</td>\n",
              "      <td>False</td>\n",
              "      <td>...</td>\n",
              "      <td>False</td>\n",
              "      <td>False</td>\n",
              "      <td>True</td>\n",
              "      <td>False</td>\n",
              "      <td>False</td>\n",
              "      <td>False</td>\n",
              "      <td>False</td>\n",
              "      <td>False</td>\n",
              "      <td>True</td>\n",
              "      <td>True</td>\n",
              "    </tr>\n",
              "    <tr>\n",
              "      <th>648863</th>\n",
              "      <td>PA</td>\n",
              "      <td>261</td>\n",
              "      <td>False</td>\n",
              "      <td>True</td>\n",
              "      <td>2</td>\n",
              "      <td>True</td>\n",
              "      <td>True</td>\n",
              "      <td>False</td>\n",
              "      <td>False</td>\n",
              "      <td>False</td>\n",
              "      <td>...</td>\n",
              "      <td>False</td>\n",
              "      <td>False</td>\n",
              "      <td>False</td>\n",
              "      <td>True</td>\n",
              "      <td>False</td>\n",
              "      <td>True</td>\n",
              "      <td>True</td>\n",
              "      <td>True</td>\n",
              "      <td>True</td>\n",
              "      <td>True</td>\n",
              "    </tr>\n",
              "    <tr>\n",
              "      <th>648864</th>\n",
              "      <td>PA</td>\n",
              "      <td>29</td>\n",
              "      <td>True</td>\n",
              "      <td>True</td>\n",
              "      <td>Unknown</td>\n",
              "      <td>True</td>\n",
              "      <td>False</td>\n",
              "      <td>False</td>\n",
              "      <td>False</td>\n",
              "      <td>False</td>\n",
              "      <td>...</td>\n",
              "      <td>False</td>\n",
              "      <td>False</td>\n",
              "      <td>True</td>\n",
              "      <td>False</td>\n",
              "      <td>False</td>\n",
              "      <td>False</td>\n",
              "      <td>False</td>\n",
              "      <td>True</td>\n",
              "      <td>True</td>\n",
              "      <td>True</td>\n",
              "    </tr>\n",
              "  </tbody>\n",
              "</table>\n",
              "<p>648865 rows × 24 columns</p>\n",
              "</div>"
            ],
            "text/plain": [
              "       state  review_count  is_open  BusinessAcceptsCreditCards  \\\n",
              "0         IN            18    False                        True   \n",
              "1         FL            47     True                        True   \n",
              "2         FL            87     True                        True   \n",
              "3         FL           103    False                        True   \n",
              "4         PA            40     True                        True   \n",
              "...      ...           ...      ...                         ...   \n",
              "648860    PA          2761     True                        True   \n",
              "648861    PA           206    False                        True   \n",
              "648862    LA           337     True                        True   \n",
              "648863    PA           261    False                        True   \n",
              "648864    PA            29     True                        True   \n",
              "\n",
              "       RestaurantsPriceRange2  Restaurants   Food  Shopping  Home Services  \\\n",
              "0                           2         True  False     False          False   \n",
              "1                           1         True  False     False          False   \n",
              "2                           1         True   True     False          False   \n",
              "3                           2         True   True     False          False   \n",
              "4                     Unknown        False  False     False          False   \n",
              "...                       ...          ...    ...       ...            ...   \n",
              "648860                      3         True  False     False          False   \n",
              "648861                      1         True  False     False          False   \n",
              "648862                      2         True  False     False          False   \n",
              "648863                      2         True   True     False          False   \n",
              "648864                Unknown         True  False     False          False   \n",
              "\n",
              "        Beauty & Spas  ...  Automotive  garage  street    lot  valet useful  \\\n",
              "0               False  ...       False   False   False   True  False   True   \n",
              "1               False  ...       False   False    True  False  False  False   \n",
              "2               False  ...       False   False   False   True  False   True   \n",
              "3               False  ...       False   False    True   True  False  False   \n",
              "4               False  ...       False   False   False  False  False   True   \n",
              "...               ...  ...         ...     ...     ...    ...    ...    ...   \n",
              "648860          False  ...       False   False   False   True  False  False   \n",
              "648861          False  ...       False   False   False   True  False  False   \n",
              "648862          False  ...       False   False    True  False  False  False   \n",
              "648863          False  ...       False   False   False   True  False   True   \n",
              "648864          False  ...       False   False    True  False  False  False   \n",
              "\n",
              "        funny   cool  business_stars  review_stars  \n",
              "0       False  False            True          True  \n",
              "1       False  False            True          True  \n",
              "2        True   True            True          True  \n",
              "3       False  False            True          True  \n",
              "4        True  False            True          True  \n",
              "...       ...    ...             ...           ...  \n",
              "648860  False  False            True          True  \n",
              "648861  False  False            True          True  \n",
              "648862  False  False            True          True  \n",
              "648863   True   True            True          True  \n",
              "648864  False   True            True          True  \n",
              "\n",
              "[648865 rows x 24 columns]"
            ]
          },
          "execution_count": 94,
          "metadata": {},
          "output_type": "execute_result"
        }
      ],
      "source": [
        "X_train\n",
        "# print(y_train.shape)\n",
        "# print(X_test.shape)\n",
        "# print(y_test.shape)"
      ]
    },
    {
      "cell_type": "code",
      "execution_count": null,
      "metadata": {},
      "outputs": [],
      "source": [
        "\n"
      ]
    }
  ],
  "metadata": {
    "colab": {
      "provenance": [],
      "toc_visible": true
    },
    "kernelspec": {
      "display_name": "DL3",
      "language": "python",
      "name": "python3"
    },
    "language_info": {
      "codemirror_mode": {
        "name": "ipython",
        "version": 3
      },
      "file_extension": ".py",
      "mimetype": "text/x-python",
      "name": "python",
      "nbconvert_exporter": "python",
      "pygments_lexer": "ipython3",
      "version": "3.9.20"
    }
  },
  "nbformat": 4,
  "nbformat_minor": 0
}
